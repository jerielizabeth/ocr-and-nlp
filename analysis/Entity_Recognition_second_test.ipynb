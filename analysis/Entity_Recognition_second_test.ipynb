{
 "cells": [
  {
   "cell_type": "code",
   "execution_count": null,
   "id": "783a7ee0",
   "metadata": {},
   "outputs": [],
   "source": [
    "import stanza\n",
    "\n",
    "# This downloads the English models for the neural pipeline\n",
    "stanza.download('en')     \n",
    "\n",
    "# This sets up a default neural pipeline in English\n",
    "nlp = stanza.Pipeline('en') \n",
    "\n",
    "# Process a sentence.\n",
    "doc = nlp(\"Apple is looking at buying U.K. startup for $1 billion\")\n",
    "\n",
    "# Display the text and type of entities the model found\n",
    "print('\\n{:<12}  {:}\\n'.format('Entity', 'Type'))\n",
    "\n",
    "# For each entity...\n",
    "for entity in doc.entities:\n",
    "\n",
    "    # Print the text and its type.\n",
    "    print('{:<12}  {:}'.format(entity.text, entity.type))"
   ]
  },
  {
   "cell_type": "code",
   "execution_count": 1,
   "id": "31894708",
   "metadata": {},
   "outputs": [
    {
     "data": {
      "application/vnd.jupyter.widget-view+json": {
       "model_id": "324fdb3f8fe84842b214d122c82c1378",
       "version_major": 2,
       "version_minor": 0
      },
      "text/plain": [
       "Downloading https://raw.githubusercontent.com/stanfordnlp/stanza-resources/main/resources_1.2.2.json:   0%|   …"
      ]
     },
     "metadata": {},
     "output_type": "display_data"
    },
    {
     "name": "stderr",
     "output_type": "stream",
     "text": [
      "2021-07-15 10:42:45 INFO: Downloading default packages for language: en (English)...\n"
     ]
    },
    {
     "data": {
      "application/vnd.jupyter.widget-view+json": {
       "model_id": "a2a24462291d4d27add41a0b695c1d63",
       "version_major": 2,
       "version_minor": 0
      },
      "text/plain": [
       "Downloading http://nlp.stanford.edu/software/stanza/1.2.2/en/default.zip:   0%|          | 0.00/412M [00:00<?,…"
      ]
     },
     "metadata": {},
     "output_type": "display_data"
    },
    {
     "name": "stderr",
     "output_type": "stream",
     "text": [
      "2021-07-15 10:44:15 INFO: Finished downloading models and saved to /Users/jeriwieringa/stanza_resources.\n",
      "2021-07-15 10:44:15 INFO: Loading these models for language: en (English):\n",
      "=========================\n",
      "| Processor | Package   |\n",
      "-------------------------\n",
      "| tokenize  | combined  |\n",
      "| pos       | combined  |\n",
      "| lemma     | combined  |\n",
      "| depparse  | combined  |\n",
      "| sentiment | sstplus   |\n",
      "| ner       | ontonotes |\n",
      "=========================\n",
      "\n",
      "2021-07-15 10:44:15 INFO: Use device: cpu\n",
      "2021-07-15 10:44:15 INFO: Loading: tokenize\n",
      "2021-07-15 10:44:15 INFO: Loading: pos\n",
      "2021-07-15 10:44:15 INFO: Loading: lemma\n",
      "2021-07-15 10:44:15 INFO: Loading: depparse\n",
      "2021-07-15 10:44:15 INFO: Loading: sentiment\n",
      "2021-07-15 10:44:16 INFO: Loading: ner\n",
      "2021-07-15 10:44:16 INFO: Done loading processors!\n"
     ]
    }
   ],
   "source": [
    "import pandas as pd\n",
    "import stanza\n",
    "\n",
    "# This downloads the English models for the neural pipeline\n",
    "stanza.download('en')     \n",
    "\n",
    "# This sets up a default neural pipeline in English\n",
    "nlp = stanza.Pipeline('en') "
   ]
  },
  {
   "cell_type": "code",
   "execution_count": 2,
   "id": "1d40343f",
   "metadata": {},
   "outputs": [],
   "source": [
    "text_df = pd.read_pickle(\"../data/all_text.pkl\")"
   ]
  },
  {
   "cell_type": "code",
   "execution_count": 3,
   "id": "5272365b",
   "metadata": {},
   "outputs": [],
   "source": [
    "test_doc = text_df.iloc[7]['text_cleaned_nlp']"
   ]
  },
  {
   "cell_type": "code",
   "execution_count": 4,
   "id": "9647a1a6",
   "metadata": {
    "scrolled": true
   },
   "outputs": [
    {
     "data": {
      "text/plain": [
       "'THE ADVENT REVIEW AND SABBATH HERALD. Here is the Patience of the Saints Here are they that keep the Commandments of God and the Faith of Jesus. VOL. VI. ROCHESTER N.Y. THIRD DAY AUGUST . NO. . THE REVIEW AND HERALD. IS PUBLISHED WEEKLY At South St. Paul st. Stone s Block. TERMS. One Dollar a Year in Advance. J. N. ANDREWS R. F. COTTRELL URIAH SMITH Publishing Committee. JAMES WHITE Editor. All communications orders and remittances should be addressed to JAMES WHITE Rochester N. Y. Monroe Street post paid. Leading Doctrines Taught by the Review. The Bible and the Bible alone the rule of faith and duty. The Law of God as taught in the Old and New Testaments unchangeable. The Personal Advent of Christ and the Resurrection of the Just before the Millennium. The Earth restored to its Eden perfection and glory the final Inheritance of the Saints. Immortality alone through Christ to be given to the Saints at the Resurrection. TIS ALL FOR THE BEST. BY ANNIE R. SMITH. All things work together for good to them that love God THROUGH this dark valley of conflict and sin Trials without and temptations within Onward to glory still urge thy lone way Joyful in hope of the long promised day. In every danger thou host a sure guide To every cloud there is yet a bright side Falter then not at the sternest behest Ever remember tis all for the best! Just as the eagle in teaching to fly Forceth her young from their covert so high Then if strength faileth beneath them she flies On her wings beareth them safe to the skies So will the arm of Jehovah uphold In each affliction his mercies unfold Murmur then not that he stirreth thy nest Ever remember tis all for the best! Never of Providence dare to complain Sunshine and storm both must ripen the grain Tried is the gold that the purest will shine Crushed is the vintage that yieldeth the wine. He who the end from beginning can tell Works for thy good for he doeth all well This that prepares for the mansions of rest Ever remember tis all for the best! PERPETUITY OF THE ROYAL LAW. OR THE TEN COMMANDMENTS NOT ADOLISHED. BY J. N. ANDREWS. IT is painful to witness the various inconsistent and self contradictory positions resorted to by those who reject the Sabbath of the Lord. But of all the positions adopted none seem so dangerous or fraught with such alarming consequence as the view that the Law of God by which the Sabbath is enforced has been abolished and that we are therefore under no obligation to remember the Sabbath day to keep it holy. The question whether God has abolished his law or not is indeed the main point at issue in the Sabbath controversy for when it is shown that that law still exists and that its perpetuity is clearly taught in the New Testament the question is most conclusively settled that the Sabbath is binding on us and upon all men. The Sabbath of the Lord is embodied in the fourth commandment of the Decalogue. This commandment stands in the midst of nine moral precepts which Jehovah after uttering with his own voice wrote with his own finger on the tables of stone. These nine commandments stand around the Sabbath of the Lord an impregnable bulwark which all the enemies of that sacred institution in vain attempt to destroy. It is evident that the Sabbath of the fourth commandment cannot be set aside unless the Decalogue can be destroyed. Hence the enemies of the Sabbatic institution have brought their heaviest artillery to bear upon the law of the Most High calculating that when they had destroyed this strong hold the Sabbath would fall an easy prey to their attack. We invite attention then to the law and to the testimony. By the unerring word of God we wish to settle this question and this we believe can be done in the most satisfactory manner. That the hand writing of ordinances containing the feasts new moons and the associated annual sabbaths of the Jews has been abolished and taken out of the way we do not doubt. This was not the moral law of God but was merely the shadow of good things to come. But the royal law in which are the ten commandments of God is the subject of this investigation and it is the perpetuity and immutability of this law that we affirm. If the law of God has been destroyed the act must have been accomplished by one of three things viz. . By the teachings of the Lord Jesus or . By his death or . By the apostles. We believe that all will agree to this statement. . Was the law of God abolished by the teachings of our Lord Jesus Christ? Let us listen to his own words. Think not that I am come to destroy the law or the prophets I am not come to destroy but to fulfill. For verily I say unto you Till heaven and earth pass one jot or one tittle shall in no wise pass from the law till all be fulfilled. Whosoever therefore shall break one of these least commandments and shall teach men so he shall be called the least in the kingdom of heaven but whosoever shall do and teach them the same shall be called great in the kingdom of heaven. Matt. v . Our Lord here testifies that he did not come to destroy the law or the prophets. Then it is a fact that he did not destroy either. But what is it to destroy the law? We answer that it can only signify to abolish or to annul it. And thus Campbell r enders the word Think not that I am come to subvert the law. Whiting renders it Think not that I am come to annul the law. It is therefore certain that our Lord did not Oorne to subvert annul or destroy the law of God. Hence it follows thatthe law of God was not annulled or abrogated by him. He adds that instead of coming to destroy he came to fulfill. If this was the object of the Saviour s mission did he not by this act do away the law set it aside and relieve us from obligation to keep its precepts? Let us see. As Campbell renders the text it reads am not come to subvert but to ratify. That is I am not come to abolish the law but to confirm and render still more sacred its just demands. If that was the object of our Lord s mission it follows that he did not lessen our obligation to obey the law of his Father. But let us return to the word fulfill. Christ came to fulfill the law hence he did fulfill it. What is it to fulfill a law? Let the apostle James answer If ye fulfill the royal law according to the scripture Thou shalt love thy neighbor as thyself ye do well but if ye have respect to persons ye commit sin and are convinced of the law as transgressors. James ii . It is evident that James here places the transgression of the law in contrast with or in opposition to the fulfillment of the law therefore it follows that the fulfillment of the law is the reverse of its violation. In other words it is its observance. To fulfill the law in the manner that James enjoins is to render complete obedience to its divine requirements. But it may be contended that to fulfill the law in the sense of our Lord s declaration accomplishes its purpose and takes it out of the way. To show the absurdity of this view let us take another of Christ s sayings which is of the same character precisely. When John refused to baptize the Saviour Jesus said Suffer it to be so now for thus it becometh us to fulfill all righteousness. Matt iii . Did the Saviour by fulfilling all righteousness weaken take out of the way or destroy all righteousness? Certainly not. No one will claim that he lessened our obligation to fulfill all righteousness also. But how did Christ fulfill the law of his Father? There is but one way in which this could be accomplished and that is to answer its just demands. What were those demands? We answer first the law of God demands perfect obedience. The justice of this none will deny. But when the law has been violated it demands the death of the transgressor. Sin is the transgression of the law. John iii . The wages of sin is death . Rom. vi . The soul that sinneth it shall die. Eze. xviii . When Christ came to fulfill the law he came to do this not for himself but in behalf of our race. He came to fulfill the law as the Messiah an office or character which no other being ever possessed. He came to undertake for fallen men and in a certain sense placed himself in their situation. What then was the relation which our race sustained to the law of God? We answer all have sinned and come short of the glory of God. The law of God stopped every mouth and showed all men sinners in the sight of God. Rom. iii. Then when the Saviour took upon himself our nature and came to fulfill the law of his Father that l aw not only demanded perfect obedience but it also justly demanded the death of our race for all were its transgressors. The work of the Saviour therefore in fulfilling the law of his Father was of a two fold character. He must first render perfect obedience to all its precepts and then offer up his own life as a ransom for guilty man. To fulfill the law as the Messiah Christ must perform all this. Did he thus do? He kept his Father s commandments. John xv . In him there was no transgression of the law. John iii . He was the Lamb of God without spot Pet. i . in whom the Father was well pleased. Matt. iii . And this was not all he took upon himself the sin of the world. Isa. liii John i . He bore our sin in his own body upon the tree. Pet. ii . He died the just for the unjust giving his own life a ransom for many. Pet. iii Matt. xx . God can now be just and yet justify him that believeth in Jesus. Rom. iii . Thus Christ lived our example and died our sacrifice. Did this work of the Messiah in rendering perfect obedience to all the law of God and then offering up himself as a ransom for its transgressors weaken that law or lessen our obligation to obey it? Never. It shows in the most striking light its perpetuity and immutability. The law of God condemned our race. Jehovah would open the way for man s salvation. He could not destroy his own moral law but he could give his own beloved and only Son to die for its transgressors. This evinces the estimate which the Father placed upon his own law. Isaiah predicted that Christ should magnify the law and make it honorable. lsa. xlii . The record of Christ s life and death shows the fulfillment of this prediction. But Christ adds a solemn affirmation. For verily I say unto you Till heaven and earth pass one jot or one tittle shall in no wise pass from the law till all be fulfilled. What is a jot and a tittle? A jot is the smallest letter of the Hebrew alphabet. A tittle is a small point by which some of those letters are distinguished from others. Our Lord therefore'"
      ]
     },
     "execution_count": 4,
     "metadata": {},
     "output_type": "execute_result"
    }
   ],
   "source": [
    "test_doc"
   ]
  },
  {
   "cell_type": "code",
   "execution_count": 5,
   "id": "38399a0a",
   "metadata": {},
   "outputs": [],
   "source": [
    "doc = nlp(test_doc)"
   ]
  },
  {
   "cell_type": "code",
   "execution_count": 7,
   "id": "c602b387",
   "metadata": {},
   "outputs": [
    {
     "name": "stdout",
     "output_type": "stream",
     "text": [
      "the Patience of the Saints  PERSON\n",
      "ROCHESTER N.Y.  GPE\n",
      "South St. Paul  LOC\n",
      "One           CARDINAL\n",
      "J. N. ANDREWS  PERSON\n",
      "R. F. COTTRELL  PERSON\n",
      "URIAH SMITH Publishing Committee  ORG\n",
      "JAMES WHITE Editor  PERSON\n",
      "JAMES WHITE   PERSON\n",
      "Rochester N. Y. Monroe Street  FAC\n",
      "Bible         WORK_OF_ART\n",
      "Bible         WORK_OF_ART\n",
      "New Testaments  NORP\n",
      "The Personal Advent of Christ  WORK_OF_ART\n",
      "the Resurrection of the Just before the Millennium  WORK_OF_ART\n",
      "Earth         LOC\n",
      "Eden          LOC\n",
      "Inheritance of the Saints  WORK_OF_ART\n",
      "Christ        PERSON\n",
      "Forceth       PERSON\n",
      "Jehovah       GPE\n",
      "Murmur        PERSON\n",
      "Providence    GPE\n",
      "the Sabbath of the Lord  PERSON\n",
      "the Law of God  LAW\n",
      "Sabbath       LAW\n",
      "the Sabbath day  DATE\n",
      "Sabbath       ORG\n",
      "the New Testament  EVENT\n",
      "Sabbath       EVENT\n",
      "The Sabbath of the Lord  WORK_OF_ART\n",
      "fourth        ORDINAL\n",
      "Decalogue     PRODUCT\n",
      "nine          CARDINAL\n",
      "nine          CARDINAL\n",
      "Sabbath       PRODUCT\n",
      "fourth        ORDINAL\n",
      "Decalogue     PRODUCT\n",
      "Sabbatic      NORP\n",
      "Sabbath       PRODUCT\n",
      "Jews          NORP\n",
      "ten           CARDINAL\n",
      "one           CARDINAL\n",
      "three         CARDINAL\n",
      "Jesus         PERSON\n",
      "Jesus Christ  PERSON\n",
      "one           CARDINAL\n",
      "one           CARDINAL\n",
      "Campbell      PERSON\n",
      "Whiting       PERSON\n",
      "Oorne         PERSON\n",
      "Saviour       PERSON\n",
      "Campbell      PERSON\n",
      "Christ        PERSON\n",
      "James         PERSON\n",
      "James ii .    PERSON\n",
      "James         PERSON\n",
      "James         PERSON\n",
      "Christ        PERSON\n",
      "John          PERSON\n",
      "the Saviour Jesus  PERSON\n",
      "Matt          PERSON\n",
      "Christ        PERSON\n",
      "one           CARDINAL\n",
      "John iii      PERSON\n",
      "Christ        PERSON\n",
      "Messiah       PERSON\n",
      "Saviour       PERSON\n",
      "two           CARDINAL\n",
      "first         ORDINAL\n",
      "the Messiah Christ  PERSON\n",
      "John xv       PERSON\n",
      "John iii      PERSON\n",
      "the Lamb of God  PERSON\n",
      "John          PERSON\n",
      "Jesus         PERSON\n",
      "Christ        PERSON\n",
      "Messiah       PERSON\n",
      "Jehovah       PERSON\n",
      "Isaiah        PERSON\n",
      "Christ        PERSON\n",
      "Christ        PERSON\n",
      "Christ        PERSON\n",
      "one           CARDINAL\n",
      "Hebrew        LANGUAGE\n"
     ]
    }
   ],
   "source": [
    "# For each entity...\n",
    "for entity in doc.entities:\n",
    "\n",
    "    # Print the text and its type.\n",
    "    print('{:<12}  {:}'.format(entity.text, entity.type))"
   ]
  },
  {
   "cell_type": "code",
   "execution_count": null,
   "id": "3e8ce83b",
   "metadata": {},
   "outputs": [],
   "source": []
  }
 ],
 "metadata": {
  "kernelspec": {
   "display_name": "Python [conda env:ocr] *",
   "language": "python",
   "name": "conda-env-ocr-py"
  },
  "language_info": {
   "codemirror_mode": {
    "name": "ipython",
    "version": 3
   },
   "file_extension": ".py",
   "mimetype": "text/x-python",
   "name": "python",
   "nbconvert_exporter": "python",
   "pygments_lexer": "ipython3",
   "version": "3.8.10"
  }
 },
 "nbformat": 4,
 "nbformat_minor": 5
}
