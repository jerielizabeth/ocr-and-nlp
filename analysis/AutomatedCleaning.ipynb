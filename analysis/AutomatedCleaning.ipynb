{
 "cells": [
  {
   "cell_type": "markdown",
   "id": "40117d26",
   "metadata": {},
   "source": [
    "Elements for automated cleaning:\n",
    "\n",
    "- remove special characters\n",
    "- try reconnecting line endings (check against standard spell check dictionary - enchant)\n",
    "- remove multiple periods\n",
    "- for now, leave modifying words for later (if needed)"
   ]
  },
  {
   "cell_type": "code",
   "execution_count": 1,
   "id": "dfa6c810",
   "metadata": {},
   "outputs": [],
   "source": [
    "import enchant"
   ]
  },
  {
   "cell_type": "code",
   "execution_count": 2,
   "id": "4fc4ea84",
   "metadata": {},
   "outputs": [],
   "source": [
    "# broker = enchant.Broker()\n",
    "# broker.describe()\n",
    "# broker.list_languages()"
   ]
  },
  {
   "cell_type": "code",
   "execution_count": 3,
   "id": "9bfd6f97",
   "metadata": {},
   "outputs": [],
   "source": [
    "# import enchant\n",
    "import os"
   ]
  },
  {
   "cell_type": "code",
   "execution_count": 4,
   "id": "6a658a4a",
   "metadata": {},
   "outputs": [],
   "source": [
    "source_directory = \"../data/text/ocr/\"\n",
    "output_directory = \"../data/text/auto_corrected/\""
   ]
  },
  {
   "cell_type": "code",
   "execution_count": 5,
   "id": "3da24de5",
   "metadata": {},
   "outputs": [],
   "source": [
    "def open_file(filepath):\n",
    "    \n",
    "    with open(filepath) as f:\n",
    "        content = f.read()\n",
    "    \n",
    "    return content"
   ]
  },
  {
   "cell_type": "code",
   "execution_count": 6,
   "id": "d87ddbe9",
   "metadata": {},
   "outputs": [],
   "source": [
    "import re\n",
    "\n",
    "def remove_extra_punct(content):\n",
    "    \"\"\"\n",
    "    Function identifies periods that occur in multiple sequence.\n",
    "    \"\"\"\n",
    "    \n",
    "    content = re.sub(r'\\.{2,}|[\\. ]{2,}|:{2,}|;{2}|,{2,}|\\s{2,}', \" \", content)\n",
    "#     content = re.sub(r'', \" \", content)\n",
    "    \n",
    "    return content"
   ]
  },
  {
   "cell_type": "code",
   "execution_count": 7,
   "id": "7621070b",
   "metadata": {},
   "outputs": [],
   "source": [
    "def normalize_dashes(content):\n",
    "    \n",
    "    # Substitute for all other dashes\n",
    "    content = re.sub(r\"—-—–‑\", r\"-\", content)\n",
    "    \n",
    "    return content"
   ]
  },
  {
   "cell_type": "code",
   "execution_count": 8,
   "id": "2ff8ee22",
   "metadata": {},
   "outputs": [],
   "source": [
    "def reconnect_lines(content):\n",
    "    # load dictionary\n",
    "    d = enchant.Dict(\"en_US\")\n",
    "    \n",
    "    # find line endings\n",
    "    splits = re.findall(r'(\\w+)(\\-\\s{1,})([a-z]+)', content)\n",
    "    for split in splits:\n",
    "        # combine into word\n",
    "        test_word = \"\".join([split[0], split[2]])\n",
    "        if d.check(test_word) is True:\n",
    "            pattern = \"\".join(split)\n",
    "#             print(pattern)\n",
    "            content = re.sub(pattern, test_word, content)\n",
    "        else:\n",
    "            continue \n",
    "    \n",
    "    return content"
   ]
  },
  {
   "cell_type": "code",
   "execution_count": 9,
   "id": "cefd5282",
   "metadata": {},
   "outputs": [],
   "source": [
    "def remove_special_chars(content):\n",
    "    \"\"\"Use regex to remove special characters except for punctuation.\n",
    "    Note:\n",
    "        Modify this function before use if content includes characters from languages other than English.\n",
    "    Args:\n",
    "        content(str): File content as string\n",
    "    Returns:\n",
    "        str: File content with special characters removed.\n",
    "\n",
    "    \"\"\"\n",
    "    # Replace all special characters with a space (as these tend to occur at the end of lines)\n",
    "    return re.sub(r\"[^a-zA-Z0-9\\s,.!?$:;\\&\\'\\\"]\", r\" \", content)"
   ]
  },
  {
   "cell_type": "code",
   "execution_count": 10,
   "id": "5caa7e2b",
   "metadata": {
    "scrolled": false
   },
   "outputs": [
    {
     "name": "stdout",
     "output_type": "stream",
     "text": [
      " \" \" O\n",
      "C\n",
      "'l'HE HEALTH REFORMER \n",
      ": , r  c ,; :CY ,c:,c ,  ; ;: x ; x x  o   ;  ' I Sickness has come to be the ruling con !! tl l :t 0 ' l n l dition of mankind, and health tbc cxcep  \" \"' \" ! tion; and a better state of things cannot be expected until the laws of life rnd health are better understood and obeyed \n",
      "To the Reader \n",
      "BY H s 1,.n, M o These laws we shall endeavor faithfully to I , 1 fi t t b , th explain ; and shall inculcate a strict and n comm\" 1or tie rs 1me eiore e  \"' ! rntelhgent obedience thereto public as an editor of a He.ilth Reform: Th b f II Ith \n",
      "t d e sn JCCt o ea 1s no a en01m Jonrnal, 1t may be expected that we say I b' t All 1 d II natLOna su cc c asses an a para word to om readers m reference to what II \n",
      "te d \n",
      "urh l , ties arc equa y m reste m 1t n 1 e we rntend to do, and what we design shall ' b l l d l t f h  a 1 therefore, we shall advocate the proper e t 1e sty e an c iarae er o t e peno 1 \n",
      " care of our bodies, or the presen at ton of cal ot which wchave been placed m charge , h 1 h , 1 \n",
      "d h \n",
      "I eat , 1rorn a re 1g10us stan pomt, t at l' nowmg sornethmgofthe greatrc pon i s , 8 a oral dutv it will not be from a \"bT I 11 b h b 11 ' a m ; ' s1 1 itws t ia w1 e t rown up.on us y denominational one; but what we may th;s 1:e.w pos1t1on, 1t would b w1!h some have to say wi!l be adapted to the cases mi.sgivmgs hat we engage m tlus nter and nccc sities of all classes To all, pnse, were t, u t for our ardent d.es1re to therefore, to whom these introductory 10 all tl,at hes m our p wer t mstruct marks may come, we extend the friendly a n!l benefit the p ople m r lat1on o the hand, and say, Give us your patronage, nght method of hvmg; and 1f we d 1d not and we will endeavor to impart to you also expect the hearty co opcrat1011 of some JH'inciplcs of the science of healthful tho e who have the health and well berng living, the value of which is not to be es of the people at heart timated in dollars and cents \n",
      "It hall be our great object to lay before om readers facts of vital importance in re   No Change of Diet Required.\" lation to the health reform, and aim to in , struet the people how to avoid sickness, 8\"' ELD n F coTTRELL \n",
      "or if sick, how to regain their health, and This is the highest commendation of that without poisons It shall be our con medicines to the people of the present stant aim to make the HllALTII RF.J 'omrnu age Hence it is an inducement to quacks worthy tht patronage of an intelligent and to recommend their rwstrums in this way \n",
      "candid public Its contributors will be If the people can hope to be cured of persons of experience, and of high mental their maladies by swallowing a drug, and, at the same time, continue to violate the ancl moral attainments \n",
      "Its selections will laws of their beiug, hy swallowing all the be of the choicest kind \n",
      "varieties of unwholesome and deleterious ' V c also design to devote a limited space articles of diet that have brought their in each number to the answering of ques sickness upon them, it is accounted a tion proposed by our readers relative to fine thing Gh1ttons are the last sort of people that want to starve to leath home treatment, &u., which will be worth They wish to make no change from their more than tlie price of the Journal self destructive way of living They will :Not only will the reading matter be of have their baneful luxuries, live or die; a high order, but the paper and type will hence they patl'Oni; ;e the medicine labeled, he of the nicest quality In a word, we  No Change of Diet Required The poet inteud to mak; it a first class Health Tour , Pope was i:ight i n his description ?f tl e ' rulmg pass10n ot the glutton \n",
      "I give lm1 n:il, 0:10 that will co me d itself t the description, changed a little to snit our good Judgment of an rntelhgent pubhc : own times and to make it intelligible to And now what we ask of all who receive I the reader ' \n",
      "thi1, number is, that they will do all they I \"A fea t of swine' fl h I tton wa thy fate i es.,gu , can to obtain9ubscriptions for this Jour 1 The doctor calls, declares all help too late f ercy l' cries g utton 'mercy on my soul! nal, and to rncrease its circulation le there no hope? Al ! then bring the Joie!'\" \n",
      ",man , III z onnasalpm twzI 11 11 11 1, 'IAA UM I II 1, KJ 111.111.111,1E, 60 YOUTH'S INSTRUCTOR humble man David was Although he was the Jing of Israel, yet he was meek and child like David says, Lord, my haart is not haughty, nor mine eyes lofty : neither do I exercise myself in great matters, or in things too high for me Ps, cxxxi, 1 Children, you can learn of David, how to serve God and walk uprightly L M STEPHENSON Aztalan, Iris. Vidy 10th, 1854 ' SABBATH SCHOOL LESSONS DEAR YOUNG FRIENDS : I Wish to say a few words to you about the manner of studying your Sabbath school lessons In the first place read the lesson two or three times, slowly and careful ly, and try to understand every idea in it Read a sentence and then look off and think it over in your mind 'before proceeding to the next, and so on through the lesson Do this before looking at the questions Then take the questions, one by one, and look out the answers and commit them to memory To make this easy for you, the an swers will be printed in italic letters Your teach ers will probably go through with the questions gitaPhed to the lesson once, and then review the lesson, asking the questions a second time, adding such questions, and giving such explanations as may suggest themselves to their minds, in order to make the whole subject plain and clear to the understanding of all May God bless you in learning the truths of the Bible, and may you have a heart to obey the truth, that you may be saved from all those things which are soon coming upon the earth, and be prepared to stand before the Son of man 0, get ready fur the kingdom; I want to be there, and I want to meet you on Mount Zi R F would be just right in everything But God, our Maker, knows exactly what is right for us to do, and he has made a law that is perfect David was one of the holy men of old who spake as they were moved by the holy Spirit; 2 Pet i, 21; and he said, The law of the Lord is perfect, con verting the soul Ps xix, 7 Then God has given us a perfect rule of ac ,tion a perfect law; and if we obey it, we shall do just right A perfect law cannot be made better by altering it; in fact, to alter such a law would make it imperfect If you alter that which is just right, you make it wrong A boy writes a word of teu letters on a slate, and spells it per fectly right Let him rub out and change one letter, and it will be spelled wrong So if we change one commandment of the perfect law of God, it makes it imperfect It is no longer the law of God He has said, My covenant 'will I not break, nor alter the thing that is gone out of my lips Ps lxxxix, 34 He never made a law and afterwards altered it To say that he done so, is speaking against his wisdom and his truth He is too wise to make a law that needs altering, and his truth is pledged that he will not do so But he made some laws for man after be had sinned which were intended to last only till Christ should come and die upon the cross These never were altered, but their time was out when Jesus died, and they died also They were given to point sinners forward to the death of Christ for forgiveness, and when he died they could be used no longer These laws required the kill ing of animals in sacrifice, which sacrifices were types, emblems or shadows of the death of Christ for sins If men had not sinned, these laws would never have been made But the law of God, which is the subject of these lessons, was made for man, before he sinned, and if he had not transgressed it, he would have needed no Sa viour to die for him, and, consequently, no sacri fices to point to Christ's death QUESTIONS What is a law? What does it tell us? What must we have? What does agood law show? If men were to make laws, what would each one de sire to have? What has Cod made? What did Da vid say? What, then., has God given us? If we obey it, bow shall we do? To alter a perfect law, how would it make it? What, has God raid? What has he never done? To say be has altered his law, is speaking against what? How long were those laws to last which were made for man after he had sinned? Sacrifices were shadows of what? What if man had not sinned? What is the subject of these lessons? When was it made for man? What if he had not transgressed it? I N UMBER I THE LAW OF G,p D A 'LAW is a rule of action It tells us what we must do, and what we must not do If we had no law, bad men would steal, rob and mur der without fear of punishment So we must have a law A good law shows what is right, and what is wrong But men do not agree about what is 1, right Otte man would have the law one way, and another another way Each one would de sire to have a law to please himself, and no man's judgment is good enough to make a law that \n",
      "kr ffiigno the Zintro IS ISSUED WEEKLY AT OAKLAND, CALIFORNIA :o: Elder James White, Editor and Proprietor TERMS : TWO DOLLARS a year to those who choose to pay a subscription price, and FREE to all others as far as the paper is sustained by the donations of the liberal friends of the cause \"All Scripture is given by inspiration of God, and is profitable for doctrine, for reproof, for correction, for instruction in righteousness ; that the man of God may be perfect, thoroughly furnished unto all good works.' 2 Tim 3 : 16, 17 IN this text we are assured that every word of the sacred Scriptures was given by the Holy Spirit ; that every doctrine which men should believe, is therein revealed ; that every fault is therein reproved ; that every error is cor rected by its words of truth ; and that per fect instruction in all righteousness is there in given The design of its Author in providing such a book was, that the man of God might there by be made perfect, thoroughly furnished unto all good works This is the treasure which God has given to his church Nor is this all that he has done To those who are willing to obey the teachings of his word, he has promised the Spirit, to guide them into all truth To men thus situated, Jehovah thus speaks : \" Prove all things ; hold fast that which is good.\" 1 Thess 5 : 21 That is, bring every part of your faith and practice to the test of God's sure word; ask the Holy Spirit's aid, that your mind may be delivered from prej udice, and your understanding enlightened in the word of truth Then, what you find re vealed in that word, hold fast; it is of price less value ; but relinquish at once every pre cept or doctrine not therein recorded, lest you make the doctrines of men of equal weight with the commandments of God What is the chaff to the wheat ? saith the Lord As the first day of the week is now almost universally observed in the place of the Sab bath of the fourth commandment, we design in this article to examine the grounds on which this observance rests Those who are willing to submit their opinions to the test of Scrip ture and of reason, are invited to unite with us in the examination of this subject For what reason do men prefer the first day of the week to the ancient Sabbath of the Lord ? On what authority do men continually vio late the day which God sanctified, and com manded mankind to keep holy ! Come, now, Address SIGNS OF THE TIMES, Oakland, Cal Temptation of Christ EXAMINATION Of Seven Reasons for Sunday Keeping BY ELD J N ANDREWS WHEN Jesus in his work of love Dwelt on the shores of time, How did the wisdom from above Through all his actions shine The tempter, skilled in every art, To turn from virtue's ways, Found in the Saviour's guiltless heart, Naught but his Maker's praise \" If thou art now the Son of God, Send forth thy firm command ; And let these stones to bread be turned, By thine all powerful hand.\" Jesus to answer this request, Quotes the inspired pages, \" Man shall not live by bread alone ; God's word is life through ages.\" Ascending to a mountain's top, All nations in their view, \"Now worship me,\" the tempter said, \" All these I give to you.\" \" Get thee hence 1\" He quick replied, \" I'll not from duty swerve : Worship thou the Lord thy God, Him only shalt thou serve.\" Mark the sweet reward of Heaven, When Satan took his flight; Angels to minister were given, With consolation bright.' \"Behold, I come quickly, and my reward is with me, to give every man according as his work shall be.\" REV XXII : 12 VOLUME I OAKLAND, CAL., FIFTH DAY, AUGUST 13, 1874 NUMBER 6 and let us reason together Here is the corn tory of redemption It needs but a word to make this clear : \" He appeared in an mandment which it is said has been changed : prove that, in this respect, it is far exceeded other form unto two of them, as they walked, \" Remember the Sabbath day, to keep it by the day of the crucifixion Which is the and went into the country And they went holy Six days shalt thou labor, and do all more remarkable event, the act of Jehovah and told it unto the residue ; neither believed thy work ; but the seventh day is the Sabin giving his beloved and only Son to die for they them Afterward he appeared unto the bath of the Lord thy God ; in it thou shalt a race of rebels, or the act of that Father in eleven as they sat at Meat, and upbraided them not do any work, thou, nor thy son, nor thy raising that beloved Son from the dead ? with their unbelief and hardness of heart, be daughter, thy man servant, nor thy maid There is only one answer that can be given : cause they believed not them which had seen servant, nor thy cattle, nor thy stranger that It was not remarkable that God should raise him after he was risen.\" Mark 16 : 12 14 is within thy gates ; for in six days the Lord his Son from the dead ; but the act of the John says : \" Then the same day at evening, made heaven and earth, the sea, and all that Father in giving his Son to die for sinners being the first day of the week, when the in them is, and rested the seventh day ; where was a spectacle of redeeming love on which doors were shut where the disciples were as fore the Lord blessed the Sabbath day, and the universe might gaze, and adore the won sembled for fear of the Jews, came Jesus and hallowed it.\" Ex 20 : 8 11 drous love of God to all eternity Who can stood in the midst, and saith unto them, That this Commandment requires men to wonder that the sun was vailed in darkness, Peace be unto you.\" John 20 : 19 remember and to keep holy the rest day of and that all nature trembled at the sight ! It is a fact, therefore, that the disciples the Creator, which he hallowed at the close The crucifixion day, therefore, has far greater were not commemorating the resurrection of of the first week of time, none can deny We claims than the day of the resurrection God the Saviour ; it is equally evident that they now ask for the authority for the change of has not enjoined the observance of either ; had not the slightest idea 6f a change of the this commandment and is it not a fearful act to make void the Sabbath At the burial of the Saviour, the Papists believe that their church had pow commandments of God by that wisdom which women who had followed him to the tomb, er to change the fourth commandment ; and, is folly in his sight ? 1 Cor 1 : 19, 20 returned and prepared spices and ointments on that authority alone, they are perfectly But if we would commemorate redemption, to embalm him ; the Sabbath drew on ; they satisfied in observing the first day of the there is no necessity of robbing the Lord's rested the Sabbath day, according to the corn week , rest day of its holiness in order to do it mandment; and when the Sabbath was past, Protestants deny the authority of the church When truth takes from us our errors, it al they came to the sepulcher upon the first day of Rome, and attempt to vindicate the change ways has something better to take their of the week to embalm their Lord Luke of the Sabbath by an appeal to the Bible place So the false memorial of redemption 23 : 55, 56 ; 24 : 1 They kept the Sabbath, This is what we wish them to do We ask being taken out of the way, the word pre according to the commandment, and resumed them, therefore, to present a single text in sents in its stead those which are true God their labor on the first day of the week which it is said that God has changed his has provided us with memorials, bearing his THIRD REASON After eight days, Jesus Sabbath to the first day of the week The own signature ; and these we may observe met with his disciples again John 20 : 26 advocates of the change have none to offer If with the blessing of Heaven Would you This must have been the first day of the week, they cannot present such a text, will they commemorate the death of our Lord ? You which is thereby proved to be the Christian give us one which testifies that God ever need not keep the day of his crucifixion The Sabbath blessed and sanctified the first day of the Bible tells you how to do it Were it certain that this occurred on the week ? Its obserirers admit that they have \" For I have received of the Lord that first day of the week, it would not furnish a none to present But will they not give us which also I delivered unto you, that the single particle of proof that that day had become one text in which men are required to keep Lord Jesus the same night in which he was the Sabbath of the Lord But who can be the first day holy, as a Sabbath unto the betrayed took bread ; and when he had given certain.that \" after eight days\" means just a Lord ? They acknowledge that they have thanks, he brake it, and said, Take, eat ; this week ? It would be nearer a literal construe none How, then, do they dare to exalt the is my body; which is broken for you ; this do tion of the language to conclude that this first day of the week above the Sabbath of in remembrance of me After the same man was upon the ninth day As an illus the Lord, which the commandment requires ner also he took the cup, when he had sup tration, read Matt 17 : 1 : \" And after six us to remember, and keep holy ? ped, saying, This cup is the New Testament days, Jesus taketh Peter, James, and John,\" The Bible thoroughly furnishes the man of in my blood : This do ye, as oft as ye drink &c Now turn to Luke 9 : 28 : \" And it God unto all good works Can Sunday keep it, in remembrance of me For as often as came to pass about an eight days after these ing be a very good work when the Bible has ye eat this bread, and drink this cup, ye do sayings, he took Peter, and John, and James,\" never said anything in its favor ? Or, if it show the Lord's death till he come.\" 1 Cor &c Then, \" after six days \" is about eight is a good work, can men be very thoroughly 11.: 23 26 days in this instance But if \" after eight furnished in its defense, when God has said Would you commemorate the burial and days \" means just a week, how does this prove nothing in its favor ? Instead of being a resurrection of the Saviour ? You need not that Sunday has taken the place of the Lord's good work, , must it not be a fearful sin keep the first day of the week The Lord Sabbath ! Rather, how does it prove that against G64:1 to thus pervert the fourth corn ordained a very different and far more appro Sunday has become the Christian Sabbath, mandment, when once the mind has been en priate memorial \" Know ye not that so when there is not a particle of evidence that lightened on the subject ? many of us as were baptized into Jesus either Christ or his apostles ever rested on Christ were baptized into his death ? There that day ? There is no such term as Christian But there are several reasons urged for the observance of the first day of the week, which fore we are buried with him by baptism into Sabbath found in the Bible The only week wedeath ; that like as Christ was raised up ly Sabbath named in the Bible is called the will here notice from the dead by the glory of the Father, Sabbath of the Lord FIRST REASON Redemption is greater than even so we also shpuld walk in newness of Was the act of Christ in appearing to his creation ; therefore we ought to keep the day life For if we have been planted together disciples sufficient to constitute the day on of Christ's resurrection, instead of the ancient in the likeness of his death, we shall be also which it occurred the Sabbath ? If so, why Sabbath of the Lord in the likeness of his resurrection.\" Rom did he next select a fishing day as the time Where has God said this ? Sunday keepers 6 : 3 5 \"Buried with him in baptism, to manifest himself to them 1 John 21 If are compelled to admit that he never did say wherein also ye are risen with him through it is not sufficient, then the Sunday on which it What right, then, has any man to make the faith of the operation of God, who hath he was first seen of them, the fishing day on such an assertion, and then to base the change raised him from the dead.\" Col 2 : 12 which they next saw him, and the Thursday of the Sabbath upon it ? But suppose that It is true that the professed church have on which he was last seen of them, may not redemption is greater than creation, who changed this ordinance to sprinkling, so that be Sabbaths It was not very remarkable knows that we ought to keep the first day of this divine memorial of the Lord's resurrec that Christ should find his disciples together, the week on that account ? God never ire tion is destroyed And that they may add inasmuch as they had one common abode  quired men to keep any day as a memorial of sin to sin, they lay hold of the Lord's Sah Acts 1 : 13 redemption But if it were a duty to ob bath and change it to the first day of the FOURTH REASON The Holy Spirit descend serve one day of the week for this reason, week, thus destroying the sacred memorial of ed upon the disciples on the day of Pentecost, most certainly the crucifixion day presents the Creator's rest, that they may have a me whidt was the first day of the week There the strongest claims It is not said that we morial of Christ's resurrection ! \" The earth fore, the first day of the week should be ob have redemption through Christ's resurrec also is defiled under the inhabitants thereof; served instead of the Sabbath of the Lord tion ; but it is said that we have redemption because they have transgressed the laws, Acts 2 : 1, 2 ' through the shedding of his blood \" And changed the ordinance, broken the everlast Admitting that the day ' of Pentecost ob they sung a new song, saying, Thou art worthy ing covenant.\" When will theprofessed church curled upon the first day of the week, it re to take the book, an to open the seals there cease to pervert the right ways of the Lord ? mains to be proved that it thereby became of ; for thou avast slain, and hast redeemed Not until the \" inhabitants of the earth are the Sabbath But that it was the feast of Pente us to God by thy blood, out of every kindred, burned, and few men left.\" Isa 24 : 5, 6 cost, and not the first day of the week, that and tongue, and people, and nation.\" Rev SECOND REASON The disciples met on the God designed to honor, the following facts 5 : 9 \"In whom we have redemption day of our Lord's resurrection to commemo demonstrate : through his blood, the forgiveness of sins, rate that event, and the Saviour sanctioned 1 While the day of Pentecost is distinct according to the riches of his grace.\" Eph this meeting by uniting with them: John ly named, the day of the week on which it 1 : 7 ; Col 1 : 14 ; Heb 9 : 12, 15 20 : 19 occurred is passed in silence Then redemption is through the death of If every word of this were truth, it would 2 The disciples had been engaged in earn the Lord Jesus ; consequently the day on not prove that the Sabbath of the Lord haS est prayer for the space of ten days ; for the which he shed his precious blood to redeem been changed But to show the utter absurd! day of Pentecost was fifty days from the.res us, and said, \" It is finished,\" John 19 : 30, ity of this inference, listen to a few facts urrection of Christ, and forty of those days is the day that should be kept as a memorial The disciples did not then believe that their he spent with his disciples Acts 1 Forty of redemption, if any should be observed for Lord had been raised from the dead, but were days from his resurrection would expire on that purpose assembled for the purpose of eating a com Thursday, the day of his ascension A peridd Nor can it be plead that the resurrection mon meal, and to seclude themselves from of ten days after his ascension on Thursday ' day is the most remarkable day in the his the Jews The words of Mark and of John would include two first days, the last of ivhidh \n",
      "THE REVIEW AND HERALD IS PUBLISHED WEEKLY At South St Paul st., Stone's Block TERMS One Dollar a Year, in Advance J N ANDREWS, R F COTTRELL, URIAH SMITH, Publishing Committee JAMES WHITE, Editor WAR communications, orders, and remittances should be addrertied to JAMES WHITE Rochester, N Y 109 Mon roe Street, post paid Leading Doctrines Taught by the Review The Bible, and the Bible alone, the rule of faith and duty The Law of God, as taught in the Old and NOW Testaments, unchangeable The Personal Advent of Christ and the licsurrectionof the Just, before the Millennium The Earth restored to its Eden perfection and glory, the fi nal Inheritance of the Saints Immortality alone through Ohrist, to be given to the Saints at the Resurrection 'TIS ALL FOR THE BEST BY ANNIE, R SMITH \"All things work together for good to them that love God\" THROUGH this dark \" valley of conflict\" and sin, Trials without and temptations within, Onward to glory, still urge thy lone way, Joyful in hope of the long promised clay In every danger thou host a sure guide; To every cloud there is yet a bright side; Falter then nut at the sternest behest, Ever remember 'tis all for the best! just as the eagle in teaching to fly, Ferceth her young from their covert so high ; Then if strength faileth, beneath them she flies, On her wings bearoth them safe to the skies; So will the arm of Jehovah uphold; In each affliction his mercies unfold; Murmur then not that \"he stirreth thy nest,\" Ever remember 'tis all for the best ! Never of Providence dare to complain; Sunshine and storm both must ripen the grain; Tried is the gold that the purest will shine ; Crushed is the vintage that yielded; the wine Ire who the end from beginning can tell, Works for thy good; for he deal: all well : This that prepares for the mansions of rest Ever remember 'tis all for the best! PERPETUITY OF THE ROYAL LAW OR, THE TEN COMMANDMENTS NOT ADOLISHED BY J N ANDREWS IT is painful to witness the various inconsistent and self contradictory positions resorted to by those who reject the Sabbath of the Lord But of all the positions adopted, none seem so dangerous, orfraught with such alarming consequence; as the view that the Jaw of God, by which the Sabbath is enforced, has been abolished, and that we are, therefore, under no obligation to remember the Sabbath day to keep it holy The question whether God has abolished his law or not, is, indeed, the main point at issue in the Sabbath controversy; for when it is shown that that law still exists, and that its perpetuity is clearly taught in the New Testament, the question is most conclusively settled, that the Sabbath is binding on us, and upon all men The Sabbath of the Lord is embodied in the fourth commandment of the Decalogue This com mandment stands in the midst of nine moral pre cepts which Jehovah, after uttering with his own voice, wrote with his own finger on the tables of stone These nine commandments stand around the Sabbath of the Lord, an impregnable bulwark, which all the enemies of that sacred institution in vain attempt to destroy It is evident that the Sabbath of the fourth commandment cannot be set aside unless the Deca LADJAV L12 11EV21, AND SABBATH HERALD \"Here is the Patience of the Saints; Here are they that keep the Commandments of God and the Faith of Jesus.\" V u VI ROCHESTER, N Y., THIRD DAY, AUGUST 15, 1854 No 1 logue can be destroyed Hence the enemies of the Sabbatic institution have brought their heaviest artillery to bear upon the law of the Most High: calculating that when they had destroyed this strong hold, the Sabbath would fall an easy prey to their attack We invite attention then to the law and to the testimony By the unerring word of God we wish to settle this question; and this we believe can be done in the most satisfactory manner That the hand writing of ordinances containing the feasts, new moons and the associated annual sabbaths of the Jews, has been abolished and taken out of the way,we do not doubt This was not the morallaw of God; butwasir merely the shadow of good thingsto come But thn royal law in which are the ten command ments of God is the subject of this investigation, and it is the perpetuity and immutability of this law that we affirm If the law of God has been destroyed, the act must have been accomplished by one of three things; viz., 1 By the teachings of the Lord Jesus; or 2 By his death; or 3 By the apostles We believe that all will agree to this statement 1 Was the law of God abolished by the teachings of our Lord Jesus Christ? Let tis listen to his own words \" Think not that I am come to destroy the law, or the prophets: I am not come to destroy, but to fulfill For verily, I say unto you, Till heaven and earth pass, one jot or one tittle shall in no wise pass from the law, till all be fulfilled Whosoever there fore shall break one of these least commandments, and shall teach men so, he shall be called the least in the kingdom of heaven : but whosoever shall do, and teach them, the same shall be called great in the kingdom of heaven.\" Matt v, 17 10 Our Lord here testifies that he did not come to destroy the law or the prophets Then it is a fact that he did not destroy either But what is it to destroy the law? We answer, that it can only sig nify to abolish, or to annul it And thus Campbell renders the word : \" Think not that I am come to subvert the law.\" Whiting renders it : \" Think not that I am come to annul the law.\" It is therefore certain that our Lord did not Oorne to subvert, annul, or destroy, the law of God Hence it follows thatthe law of God WAS not annulled or abrogated by him He adds, that instead of coming to destroy, he came to fulfill If this was the object of the Saviour's mission, did he not by this act do away the law, set it aside, and relieve us from obligation to keep its precepts? Let us see As Campbell renders the text, it reads, \"1 am not come to subvert, but to rati fy.\" That is, I am not come to abolish the law, but to confirm, and render still more sacred, its just demands If that was the object of our Lord's mission, it fol lows that he did not lessen our obligation to obey the law of his Father But let us return to the word \"fulfill.\" Christ came to fulfill the law, hence he did fulfill it What is it to fulfill a law ? Let the apostle James answer: \"If ye fulfill the royal law according to the scrip ture, Thou shalt love thy neighbor as thyself, ye do well; but if ye have respect to persons, ye com mit sin, and are convinced of the law as transgress ors.\" James ii, 8, 9 It is evident that James here places the transgression of the law in contrast with, or in opposition to, the fulfillment of the law; there fore it follows that the fulfillment of the law is the reverse of its violation In other words, it is its ob servance To fulfill the law in the manner that James enjoins, is to render complete obedience to its divine requirements But it may be contended that to fulfill the law in the sense of our Lord's declaration, accomplishes its purpose, and takes it out of the way To show the absurdity of this view, let us take another of Christ's sayings which is of the same character, precisely When John refused to baptize the Saviour, Jesus said, \"Suffer it to be so now; for thus it becometh us to fulfill all righteousness.\" Math iii, 15 Did the Saviour, by fulfilling all righteousness, weaken, take out of the way, or destroy all righteousness? Certainly not No one will claim that he lessened our obligation to fulfill all righteousness also But how did Christ fulfill the law of his Father? There is but one way in which this could be accom plished, and that is to answer its just demands What were those demands? We answer: first, the w of God demands perfect obedience The justice of this, none will deny But when the law has been violated, it demands the death of the transgressor Sin is the transgression of the law.\" 1 John iii, 4 \"The wages of sin is death;.\" Rom vi, 23 \"The soul that sinneth it shall lie.\" Eze xviii, 4 When Christ came to fulfill the law, he came to do this, not for himself, but in behalf of our race He came to fulfill the law as the Messiah: an office or charac ter which no other being ever possessed He came to undertake for fallen men, and in a certain sense placed himself in their situation What then was the relation which our race sustained to the law of God? We answer: all have sinned, and come short of the glory of God The law of God stopped every mouth, and showed all men sinners in the sight of God Rom iii, Then, when he Saviour took upon himself our nature, and calne to fulfill the law of his Father, that law not only demanded perfect obedience, lint it al so justly demanded the death of our race; for all were its transgressors The work of the SaviourrfEere fore, in fulfilling the law of his Father, was of a two fold character He must first render perfect obedience to all its precepts, and then offer up his own life as a ransom for guilty man To fulfill the law as the Messiah, Christ must perform all this Did he thus do ? He kept, his Father's commandments John xv, 10 In him there was no transgression of the law 1 Jolts: iii, 4, 5 He was the Lamb of God without spot, 1 Pet i, 19 in whom the Father was well pleased Matt iii, 17 And this was not all ; he took upon himself the sin of the world Isa 6; John i, 29 He bore our sin in his own body up on the tree 1 Pet ii, 24 He died the just for the unjust, giving his own life a ransom for many l Pet iii, 18; Matt xx, 28 God can now be just and yet justify him that believeth in Jesus Rom iii, '25, 26 Thus Christ lived our example and died our sacrifice Did this work of the Messiah, in rendering per fect obedience to all the law of God, and then offer ing up himself as a ransom for its transgressors, weaken that law, or lessen our obligation to obey it i Never It shows in the most striking light, its per petuity and immutability The law of God con demned our race Jehovah would open the way for man's salvation He could not destroy his own mor al law; but he could give his own beloved and on ly Son to die for its transgressors This evinces the estimate which the Father placed upon Isis own law Isaiah predicted that Christ should magnify the law, and make it honorable lsa xlii, 21 The record of Christ's life and death shows the fulfillment of this prediction But Christ adds a solemn affirmation \"For veri ly, I say unto you, Till heaven and earth pass, one jot, or one tittle shall in no wise pass from the law, till all be fulfilled What is a jot and a tittle? A jot is the smallest letter of the Hebrew alphabet A tittle is a small point by which some of those letters are distinguished from others Our Lord therefore \n"
     ]
    }
   ],
   "source": [
    "for f in os.listdir(source_directory):\n",
    "    content = open_file(os.path.join(source_directory, f))\n",
    "    corrected = remove_extra_punct(remove_special_chars(reconnect_lines(normalize_dashes(content))))\n",
    "    print(corrected)\n",
    "    with open(os.path.join(output_directory, f), 'w') as o:\n",
    "        o.write(corrected)"
   ]
  }
 ],
 "metadata": {
  "kernelspec": {
   "display_name": "Python 3",
   "language": "python",
   "name": "python3"
  },
  "language_info": {
   "codemirror_mode": {
    "name": "ipython",
    "version": 3
   },
   "file_extension": ".py",
   "mimetype": "text/x-python",
   "name": "python",
   "nbconvert_exporter": "python",
   "pygments_lexer": "ipython3",
   "version": "3.8.10"
  }
 },
 "nbformat": 4,
 "nbformat_minor": 5
}
