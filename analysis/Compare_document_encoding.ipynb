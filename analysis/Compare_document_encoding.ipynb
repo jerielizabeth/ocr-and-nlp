{
 "cells": [
  {
   "cell_type": "markdown",
   "id": "068f5373",
   "metadata": {},
   "source": [
    "Goal here is to compare the distance between document encodings for \n",
    "1. OCR\n",
    "2. Corrected\n",
    "3. OCR (nouns/verbs/adj/adv only)\n",
    "4. Corrected (nouns/verbs/adj/adv only)\n",
    "\n",
    "Using Spacy to generate the encodings and measure the similarity between documents."
   ]
  },
  {
   "cell_type": "code",
   "execution_count": 1,
   "id": "3209f22f",
   "metadata": {},
   "outputs": [
    {
     "ename": "ModuleNotFoundError",
     "evalue": "No module named 'spacy'",
     "output_type": "error",
     "traceback": [
      "\u001b[0;31m---------------------------------------------------------------------------\u001b[0m",
      "\u001b[0;31mModuleNotFoundError\u001b[0m                       Traceback (most recent call last)",
      "\u001b[0;32m<ipython-input-1-41f39414b73f>\u001b[0m in \u001b[0;36m<module>\u001b[0;34m\u001b[0m\n\u001b[1;32m      1\u001b[0m \u001b[0;32mimport\u001b[0m \u001b[0mpandas\u001b[0m \u001b[0;32mas\u001b[0m \u001b[0mpd\u001b[0m\u001b[0;34m\u001b[0m\u001b[0;34m\u001b[0m\u001b[0m\n\u001b[0;32m----> 2\u001b[0;31m \u001b[0;32mimport\u001b[0m \u001b[0mspacy\u001b[0m\u001b[0;34m\u001b[0m\u001b[0;34m\u001b[0m\u001b[0m\n\u001b[0m\u001b[1;32m      3\u001b[0m \u001b[0;34m\u001b[0m\u001b[0m\n\u001b[1;32m      4\u001b[0m \u001b[0;34m\u001b[0m\u001b[0m\n\u001b[1;32m      5\u001b[0m \u001b[0mtext_df\u001b[0m \u001b[0;34m=\u001b[0m \u001b[0mpd\u001b[0m\u001b[0;34m.\u001b[0m\u001b[0mread_pickle\u001b[0m\u001b[0;34m(\u001b[0m\u001b[0;34m\"../data/all_text.pkl\"\u001b[0m\u001b[0;34m)\u001b[0m\u001b[0;34m\u001b[0m\u001b[0;34m\u001b[0m\u001b[0m\n",
      "\u001b[0;31mModuleNotFoundError\u001b[0m: No module named 'spacy'"
     ]
    }
   ],
   "source": [
    "import pandas as pd\n",
    "import spacy\n",
    "\n",
    "\n",
    "text_df = pd.read_pickle(\"../data/all_text.pkl\")"
   ]
  },
  {
   "cell_type": "code",
   "execution_count": null,
   "id": "b6026b80",
   "metadata": {},
   "outputs": [],
   "source": [
    "nlp = spacy.load(\"en_core_web_md\") "
   ]
  },
  {
   "cell_type": "code",
   "execution_count": null,
   "id": "00c4bf6f",
   "metadata": {},
   "outputs": [],
   "source": [
    "text_df"
   ]
  },
  {
   "cell_type": "code",
   "execution_count": null,
   "id": "1f9b9f03",
   "metadata": {},
   "outputs": [],
   "source": [
    "doc0 = nlp(text_df['text_cleaned_nlp'].iloc[0])\n",
    "doc4 = nlp(text_df['text_cleaned_nlp'].iloc[4])"
   ]
  },
  {
   "cell_type": "code",
   "execution_count": null,
   "id": "433d0ef5",
   "metadata": {},
   "outputs": [],
   "source": [
    "print(doc0.similarity(doc4))"
   ]
  },
  {
   "cell_type": "code",
   "execution_count": null,
   "id": "3b11a16f",
   "metadata": {},
   "outputs": [],
   "source": [
    "doc3 = nlp(text_df['text_cleaned_nlp'].iloc[3])\n",
    "doc7 = nlp(text_df['text_cleaned_nlp'].iloc[7])\n",
    "\n",
    "print(doc3.similarity(doc7))"
   ]
  },
  {
   "cell_type": "code",
   "execution_count": null,
   "id": "8935c86c",
   "metadata": {},
   "outputs": [],
   "source": [
    "words_df = pd.read_pickle(\"../data/words.pkl\")"
   ]
  },
  {
   "cell_type": "code",
   "execution_count": null,
   "id": "ccb08d5f",
   "metadata": {},
   "outputs": [],
   "source": [
    "words_df"
   ]
  },
  {
   "cell_type": "code",
   "execution_count": null,
   "id": "765b9265",
   "metadata": {},
   "outputs": [],
   "source": [
    "filtered_words = words_df[words_df['tag'].isin(['NOUN', 'PROPN','VERB', 'ADV', 'ADJ'])]\n",
    "filtered_words"
   ]
  },
  {
   "cell_type": "code",
   "execution_count": null,
   "id": "5845a4c5",
   "metadata": {},
   "outputs": [],
   "source": [
    "doc_ids = list(filtered_words['doc_id'].unique())\n",
    "doc_ids"
   ]
  },
  {
   "cell_type": "code",
   "execution_count": null,
   "id": "b186e013",
   "metadata": {},
   "outputs": [],
   "source": [
    "reduced_docs = {}\n",
    "\n",
    "id_ = 0\n",
    "for each in doc_ids:\n",
    "    df = filtered_words[filtered_words['doc_id'] == each]\n",
    "    words = df['token'].to_list()\n",
    "    reduced_docs[id_] = \" \".join(words)\n",
    "    id_ += 1\n",
    "    \n",
    "print(reduced_docs)"
   ]
  },
  {
   "cell_type": "code",
   "execution_count": null,
   "id": "d06c2672",
   "metadata": {},
   "outputs": [],
   "source": [
    "re_doc0 = nlp(reduced_docs.get(0))\n",
    "re_doc4 = nlp(reduced_docs.get(4))"
   ]
  },
  {
   "cell_type": "code",
   "execution_count": null,
   "id": "89c2b052",
   "metadata": {},
   "outputs": [],
   "source": [
    "re_doc0.similarity(re_doc4)"
   ]
  },
  {
   "cell_type": "code",
   "execution_count": null,
   "id": "ec6ae1cd",
   "metadata": {},
   "outputs": [],
   "source": [
    "re_doc3 = nlp(reduced_docs.get(3))\n",
    "re_doc7 = nlp(reduced_docs.get(7))"
   ]
  },
  {
   "cell_type": "code",
   "execution_count": null,
   "id": "ea9a0324",
   "metadata": {},
   "outputs": [],
   "source": [
    "re_doc3.similarity(re_doc7)"
   ]
  },
  {
   "cell_type": "code",
   "execution_count": null,
   "id": "93275fa3",
   "metadata": {},
   "outputs": [],
   "source": []
  }
 ],
 "metadata": {
  "kernelspec": {
   "display_name": "Python 3",
   "language": "python",
   "name": "python3"
  },
  "language_info": {
   "codemirror_mode": {
    "name": "ipython",
    "version": 3
   },
   "file_extension": ".py",
   "mimetype": "text/x-python",
   "name": "python",
   "nbconvert_exporter": "python",
   "pygments_lexer": "ipython3",
   "version": "3.8.10"
  }
 },
 "nbformat": 4,
 "nbformat_minor": 5
}
