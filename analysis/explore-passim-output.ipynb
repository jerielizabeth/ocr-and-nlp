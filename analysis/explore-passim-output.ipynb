{
 "cells": [
  {
   "cell_type": "markdown",
   "metadata": {},
   "source": [
    "**Summary**\n",
    "\n",
    "In this notebook we explain how to load `passim`'s output into a `pandas`' `DataFrame`, a data structure that comes in very handy when analyzing and/or plotting data.\n",
    "\n",
    "Please note that if the **size of your data** changes considerably (i.e. the number of detected text reuse clusters shifts from thousands to millions) we recommened the use of [`dask` DataFrames](https://docs.dask.org/en/latest/dataframe.html) as it is able e.g. to distribute computation and memory usage over a cluster made of several machines. \n",
    "\n",
    "(This file is from the Programming Historian tutorial)\n",
    "\n",
    "\n",
    "## Imports"
   ]
  },
  {
   "cell_type": "code",
   "execution_count": 1,
   "metadata": {},
   "outputs": [],
   "source": [
    "import matplotlib\n",
    "import os\n",
    "import pandas as pd"
   ]
  },
  {
   "cell_type": "code",
   "execution_count": 2,
   "metadata": {},
   "outputs": [
    {
     "data": {
      "text/plain": [
       "'1.3.0'"
      ]
     },
     "execution_count": 2,
     "metadata": {},
     "output_type": "execute_result"
    }
   ],
   "source": [
    "# this prints the current pandas' version\n",
    "pd.__version__"
   ]
  },
  {
   "cell_type": "markdown",
   "metadata": {},
   "source": [
    "## Configuration\n",
    "\n",
    "**NB**: In case you speficied a different output folder when running `passim`, you'll need to change the variables here below."
   ]
  },
  {
   "cell_type": "code",
   "execution_count": 3,
   "metadata": {},
   "outputs": [],
   "source": [
    "passim_output_path = os.path.join('../', 'data', 'passim_output_bible_min3','out.json')"
   ]
  },
  {
   "cell_type": "markdown",
   "metadata": {},
   "source": [
    "## Utility functions\n",
    "\n",
    "Some very general functions that should be usable with any `passim` JSON output."
   ]
  },
  {
   "cell_type": "code",
   "execution_count": 4,
   "metadata": {
    "code_folding": [
     31
    ]
   },
   "outputs": [],
   "source": [
    "def read_passim_json(output_dir: str) -> pd.DataFrame:\n",
    "    \"\"\"\n",
    "    A simple function that reads passim's JSON output\n",
    "    into a pandas DataFrame.\n",
    "    \"\"\"\n",
    "\n",
    "    # detect all JSON files filtering on file extension\n",
    "    files = [\n",
    "        os.path.join(output_dir, f)\n",
    "        for f in os.listdir(output_dir)\n",
    "        if f.endswith('.json')\n",
    "    ]\n",
    "    \n",
    "    print(f'{len(files)} files detected in folder {output_dir}')\n",
    "    \n",
    "    # read each JSON file into a temporary pandas dataframe\n",
    "    # thus creating a list of dataframes\n",
    "    dfs = [\n",
    "        pd.read_json(file, lines=True)\n",
    "        for file in files\n",
    "    ]\n",
    "    \n",
    "    # concatenate all temporary dataframes into a single one\n",
    "    # and set the column `uid` as the dataframe index\n",
    "    df = pd.concat(dfs).set_index('uid')\n",
    "    \n",
    "    n_clusters = df.cluster.nunique()\n",
    "    n_passages = df.shape[0]\n",
    "    print(f'Passim data contain {n_passages} text reuse passages, grouped into {n_clusters} clusters')\n",
    "    return df\n",
    "\n",
    "def passages2clusters(passages_df: pd.DataFrame) -> pd.DataFrame:\n",
    "    \"\"\"\n",
    "    Function that aggregates passim's output at the cluster-level.\n",
    "    \"\"\"\n",
    "    impresso_tr_clusters = passages_df.groupby('cluster').agg({'size': 'count'})\n",
    "    impresso_tr_clusters.rename(columns={'size': 'cluster_size'}, inplace=True)\n",
    "    return impresso_tr_clusters\n",
    "    "
   ]
  },
  {
   "cell_type": "markdown",
   "metadata": {},
   "source": [
    "## Read in `passim`'s output for *impresso*\n",
    "\n",
    "First thing first, we need to read in `passim`'s JSON output; each JSON document represents a *text reuse passage* (not a cluster!) and the data is split over several smallish JSON files contained in `passim`'s output directory."
   ]
  },
  {
   "cell_type": "code",
   "execution_count": 5,
   "metadata": {},
   "outputs": [
    {
     "name": "stdout",
     "output_type": "stream",
     "text": [
      "6 files detected in folder ../data/passim_output_bible_min3/out.json\n",
      "Passim data contain 25 text reuse passages, grouped into 10 clusters\n"
     ]
    }
   ],
   "source": [
    "tr_passages = read_passim_json(passim_output_path)"
   ]
  },
  {
   "cell_type": "code",
   "execution_count": 6,
   "metadata": {},
   "outputs": [
    {
     "data": {
      "text/plain": [
       "25"
      ]
     },
     "execution_count": 6,
     "metadata": {},
     "output_type": "execute_result"
    }
   ],
   "source": [
    "# this gives the number of TR passages detected by passim\n",
    "# on the sample impresso data\n",
    "tr_passages.shape[0]"
   ]
  },
  {
   "cell_type": "markdown",
   "metadata": {},
   "source": [
    "## Reshaping data: from passages to clusters\n",
    "\n",
    "Since `passim`'s JSON represents text reuse passages, in order to do some analysis on text reuse clusters we need to **reshape** our data. This is done by calling the `passages2clusters` function which will transform a DataFrame of passages into a DataFrame of clusters. \n",
    "\n",
    "Here, for the sake of semplicity, each cluster has two bits of information (columns): \n",
    "1. a cluster ID (the one assigned by `passim`)\n",
    "2. its size, namely the number of similar/repeated passages that a cluster contains. \n",
    "\n",
    "But for a more in-depth analysis, you may want to characterise each cluster by some more information, e.g. the timespan covered by passages in the cluster (if applicable)."
   ]
  },
  {
   "cell_type": "code",
   "execution_count": 7,
   "metadata": {},
   "outputs": [],
   "source": [
    "tr_clusters = passages2clusters(tr_passages)"
   ]
  },
  {
   "cell_type": "code",
   "execution_count": 8,
   "metadata": {},
   "outputs": [
    {
     "data": {
      "text/plain": [
       "10"
      ]
     },
     "execution_count": 8,
     "metadata": {},
     "output_type": "execute_result"
    }
   ],
   "source": [
    "# the number of records (rows) in this dataframe\n",
    "# correspondes to the number of clusters detected by passim\n",
    "tr_clusters.shape[0]"
   ]
  },
  {
   "cell_type": "markdown",
   "metadata": {},
   "source": [
    "## Plotting the distribution of cluster sizes (impresso)\n",
    "\n",
    "An interesting thing for the analysis of TR is to get a sense of **how big are the clusters** we are dealing with. Similarly, we'd like to understand whether we have a lot of small or big clusters, and how much variance there is in their sizes.\n",
    "\n",
    "This information is contained in the column `cluster_size` of our cluster `DataFrame`."
   ]
  },
  {
   "cell_type": "markdown",
   "metadata": {},
   "source": [
    "What's the smallest cluster?"
   ]
  },
  {
   "cell_type": "code",
   "execution_count": 9,
   "metadata": {},
   "outputs": [
    {
     "data": {
      "text/plain": [
       "2"
      ]
     },
     "execution_count": 9,
     "metadata": {},
     "output_type": "execute_result"
    }
   ],
   "source": [
    "tr_clusters.cluster_size.min()"
   ]
  },
  {
   "cell_type": "markdown",
   "metadata": {},
   "source": [
    "And the biggest one?"
   ]
  },
  {
   "cell_type": "code",
   "execution_count": 10,
   "metadata": {},
   "outputs": [
    {
     "data": {
      "text/plain": [
       "3"
      ]
     },
     "execution_count": 10,
     "metadata": {},
     "output_type": "execute_result"
    }
   ],
   "source": [
    "tr_clusters.cluster_size.max()"
   ]
  },
  {
   "cell_type": "markdown",
   "metadata": {},
   "source": [
    "Now, we can start looking at the frequency distribution of cluster sizes. The `pandas.Series`' method `value_counts()` returns the frequency of each size -- which is exactly what we need here."
   ]
  },
  {
   "cell_type": "code",
   "execution_count": 11,
   "metadata": {},
   "outputs": [
    {
     "data": {
      "text/plain": [
       "2    5\n",
       "3    5\n",
       "Name: cluster_size, dtype: int64"
      ]
     },
     "execution_count": 11,
     "metadata": {},
     "output_type": "execute_result"
    }
   ],
   "source": [
    "tr_clusters.cluster_size.value_counts()"
   ]
  },
  {
   "cell_type": "markdown",
   "metadata": {},
   "source": [
    "We can get some more statistical information about the distribution of size by calling the `describe()` method. Tis will return the min/max/mean value, standard deviation, and the three quartiles."
   ]
  },
  {
   "cell_type": "code",
   "execution_count": 12,
   "metadata": {},
   "outputs": [
    {
     "data": {
      "text/plain": [
       "count    10.000000\n",
       "mean      2.500000\n",
       "std       0.527046\n",
       "min       2.000000\n",
       "25%       2.000000\n",
       "50%       2.500000\n",
       "75%       3.000000\n",
       "max       3.000000\n",
       "Name: cluster_size, dtype: float64"
      ]
     },
     "execution_count": 12,
     "metadata": {},
     "output_type": "execute_result"
    }
   ],
   "source": [
    "tr_clusters.cluster_size.describe()"
   ]
  },
  {
   "cell_type": "markdown",
   "metadata": {},
   "source": [
    "The majority of our clusters are very small; 90% of them, in fact, contains at maximum 4 passages."
   ]
  },
  {
   "cell_type": "code",
   "execution_count": 13,
   "metadata": {},
   "outputs": [
    {
     "data": {
      "text/plain": [
       "cluster_size    3.0\n",
       "Name: 0.9, dtype: float64"
      ]
     },
     "execution_count": 13,
     "metadata": {},
     "output_type": "execute_result"
    }
   ],
   "source": [
    "tr_clusters.quantile(.9)"
   ]
  },
  {
   "cell_type": "markdown",
   "metadata": {},
   "source": [
    "This distribution can also be plotted by using a bar plot:"
   ]
  },
  {
   "cell_type": "code",
   "execution_count": 14,
   "metadata": {},
   "outputs": [
    {
     "data": {
      "image/png": "[encoded data removed]",
      "text/plain": [
       "<Figure size 720x576 with 1 Axes>"
      ]
     },
     "metadata": {
      "needs_background": "light"
     },
     "output_type": "display_data"
    }
   ],
   "source": [
    "%matplotlib inline\n",
    "ax = tr_clusters.cluster_size.value_counts().plot(\n",
    "    kind='bar',\n",
    "    log=False,\n",
    "    grid=True,\n",
    "    figsize=(10, 8),\n",
    "    xlabel='Cluster size',\n",
    "    ylabel='Frequency',\n",
    "    title='Distribution of text reuse cluster sizes'\n",
    ")"
   ]
  },
  {
   "cell_type": "markdown",
   "metadata": {},
   "source": [
    "Since our distribution is very skewed (a lot of clusters with size 2, and much less of them for other sizes), some data points become invisible unless with use a logarithmic scale for the Y axis:"
   ]
  },
  {
   "cell_type": "markdown",
   "metadata": {},
   "source": [
    "---"
   ]
  },
  {
   "cell_type": "markdown",
   "metadata": {},
   "source": [
    "Starting now:\n"
   ]
  },
  {
   "cell_type": "code",
   "execution_count": 15,
   "metadata": {},
   "outputs": [
    {
     "data": {
      "text/html": [
       "<div>\n",
       "<style scoped>\n",
       "    .dataframe tbody tr th:only-of-type {\n",
       "        vertical-align: middle;\n",
       "    }\n",
       "\n",
       "    .dataframe tbody tr th {\n",
       "        vertical-align: top;\n",
       "    }\n",
       "\n",
       "    .dataframe thead th {\n",
       "        text-align: right;\n",
       "    }\n",
       "</style>\n",
       "<table border=\"1\" class=\"dataframe\">\n",
       "  <thead>\n",
       "    <tr style=\"text-align: right;\">\n",
       "      <th></th>\n",
       "      <th>cluster_size</th>\n",
       "    </tr>\n",
       "    <tr>\n",
       "      <th>cluster</th>\n",
       "      <th></th>\n",
       "    </tr>\n",
       "  </thead>\n",
       "  <tbody>\n",
       "    <tr>\n",
       "      <th>8589934592</th>\n",
       "      <td>2</td>\n",
       "    </tr>\n",
       "    <tr>\n",
       "      <th>8589934593</th>\n",
       "      <td>3</td>\n",
       "    </tr>\n",
       "    <tr>\n",
       "      <th>8589934594</th>\n",
       "      <td>2</td>\n",
       "    </tr>\n",
       "    <tr>\n",
       "      <th>8589934595</th>\n",
       "      <td>3</td>\n",
       "    </tr>\n",
       "    <tr>\n",
       "      <th>8589934596</th>\n",
       "      <td>3</td>\n",
       "    </tr>\n",
       "    <tr>\n",
       "      <th>8589934597</th>\n",
       "      <td>3</td>\n",
       "    </tr>\n",
       "    <tr>\n",
       "      <th>8589934598</th>\n",
       "      <td>3</td>\n",
       "    </tr>\n",
       "    <tr>\n",
       "      <th>17179869185</th>\n",
       "      <td>2</td>\n",
       "    </tr>\n",
       "    <tr>\n",
       "      <th>17179869187</th>\n",
       "      <td>2</td>\n",
       "    </tr>\n",
       "    <tr>\n",
       "      <th>17179869189</th>\n",
       "      <td>2</td>\n",
       "    </tr>\n",
       "  </tbody>\n",
       "</table>\n",
       "</div>"
      ],
      "text/plain": [
       "             cluster_size\n",
       "cluster                  \n",
       "8589934592              2\n",
       "8589934593              3\n",
       "8589934594              2\n",
       "8589934595              3\n",
       "8589934596              3\n",
       "8589934597              3\n",
       "8589934598              3\n",
       "17179869185             2\n",
       "17179869187             2\n",
       "17179869189             2"
      ]
     },
     "execution_count": 15,
     "metadata": {},
     "output_type": "execute_result"
    }
   ],
   "source": [
    "tr_clusters"
   ]
  },
  {
   "cell_type": "code",
   "execution_count": 16,
   "metadata": {},
   "outputs": [
    {
     "data": {
      "text/html": [
       "<div>\n",
       "<style scoped>\n",
       "    .dataframe tbody tr th:only-of-type {\n",
       "        vertical-align: middle;\n",
       "    }\n",
       "\n",
       "    .dataframe tbody tr th {\n",
       "        vertical-align: top;\n",
       "    }\n",
       "\n",
       "    .dataframe thead th {\n",
       "        text-align: right;\n",
       "    }\n",
       "</style>\n",
       "<table border=\"1\" class=\"dataframe\">\n",
       "  <thead>\n",
       "    <tr style=\"text-align: right;\">\n",
       "      <th></th>\n",
       "      <th>cluster</th>\n",
       "      <th>size</th>\n",
       "      <th>bw</th>\n",
       "      <th>ew</th>\n",
       "      <th>id</th>\n",
       "      <th>series</th>\n",
       "      <th>text</th>\n",
       "      <th>gid</th>\n",
       "      <th>begin</th>\n",
       "      <th>end</th>\n",
       "    </tr>\n",
       "    <tr>\n",
       "      <th>uid</th>\n",
       "      <th></th>\n",
       "      <th></th>\n",
       "      <th></th>\n",
       "      <th></th>\n",
       "      <th></th>\n",
       "      <th></th>\n",
       "      <th></th>\n",
       "      <th></th>\n",
       "      <th></th>\n",
       "      <th></th>\n",
       "    </tr>\n",
       "  </thead>\n",
       "  <tbody>\n",
       "    <tr>\n",
       "      <th>2865213028299747379</th>\n",
       "      <td>8589934592</td>\n",
       "      <td>2</td>\n",
       "      <td>660</td>\n",
       "      <td>755</td>\n",
       "      <td>ST18740813-V01-06-p1.txt-ground_truth</td>\n",
       "      <td>not_bible</td>\n",
       "      <td>Remember the Sabbath day to keep it holy. Six ...</td>\n",
       "      <td>-7044454596298023190</td>\n",
       "      <td>3562</td>\n",
       "      <td>4031</td>\n",
       "    </tr>\n",
       "    <tr>\n",
       "      <th>-3804236650871972787</th>\n",
       "      <td>8589934592</td>\n",
       "      <td>2</td>\n",
       "      <td>57343</td>\n",
       "      <td>57443</td>\n",
       "      <td>king_james</td>\n",
       "      <td>bible</td>\n",
       "      <td>Remember the sabbath day, to keep it holy.\\n\\n...</td>\n",
       "      <td>-6359048191199748886</td>\n",
       "      <td>286783</td>\n",
       "      <td>287288</td>\n",
       "    </tr>\n",
       "    <tr>\n",
       "      <th>5497860786606132514</th>\n",
       "      <td>8589934593</td>\n",
       "      <td>3</td>\n",
       "      <td>695</td>\n",
       "      <td>876</td>\n",
       "      <td>ST18740813-V01-06-p1.txt-auto_corrected</td>\n",
       "      <td>not_bible</td>\n",
       "      <td>form unto two of them as they walked Remember ...</td>\n",
       "      <td>-7044454596298023190</td>\n",
       "      <td>3695</td>\n",
       "      <td>4609</td>\n",
       "    </tr>\n",
       "    <tr>\n",
       "      <th>-3804236650871972787</th>\n",
       "      <td>8589934593</td>\n",
       "      <td>3</td>\n",
       "      <td>697896</td>\n",
       "      <td>697964</td>\n",
       "      <td>king_james</td>\n",
       "      <td>bible</td>\n",
       "      <td>he appeared in another form unto two of them, ...</td>\n",
       "      <td>-6359048191199748886</td>\n",
       "      <td>3547514</td>\n",
       "      <td>3547881</td>\n",
       "    </tr>\n",
       "    <tr>\n",
       "      <th>2865213028299747379</th>\n",
       "      <td>8589934593</td>\n",
       "      <td>3</td>\n",
       "      <td>2153</td>\n",
       "      <td>2217</td>\n",
       "      <td>ST18740813-V01-06-p1.txt-ground_truth</td>\n",
       "      <td>not_bible</td>\n",
       "      <td>He appeared in another form unto two of them a...</td>\n",
       "      <td>-7044454596298023190</td>\n",
       "      <td>11361</td>\n",
       "      <td>11708</td>\n",
       "    </tr>\n",
       "    <tr>\n",
       "      <th>-3804236650871972787</th>\n",
       "      <td>8589934594</td>\n",
       "      <td>2</td>\n",
       "      <td>493369</td>\n",
       "      <td>493419</td>\n",
       "      <td>king_james</td>\n",
       "      <td>bible</td>\n",
       "      <td>The earth also is defiled under the inhabitant...</td>\n",
       "      <td>-6359048191199748886</td>\n",
       "      <td>2506203</td>\n",
       "      <td>2506520</td>\n",
       "    </tr>\n",
       "    <tr>\n",
       "      <th>2865213028299747379</th>\n",
       "      <td>8589934594</td>\n",
       "      <td>2</td>\n",
       "      <td>1998</td>\n",
       "      <td>2047</td>\n",
       "      <td>ST18740813-V01-06-p1.txt-ground_truth</td>\n",
       "      <td>not_bible</td>\n",
       "      <td>The earth also is defiled under the inhabitant...</td>\n",
       "      <td>-7044454596298023190</td>\n",
       "      <td>10494</td>\n",
       "      <td>10790</td>\n",
       "    </tr>\n",
       "    <tr>\n",
       "      <th>-3804236650871972787</th>\n",
       "      <td>8589934595</td>\n",
       "      <td>3</td>\n",
       "      <td>746107</td>\n",
       "      <td>746150</td>\n",
       "      <td>king_james</td>\n",
       "      <td>bible</td>\n",
       "      <td>Then the same day at evening, being the first ...</td>\n",
       "      <td>-6359048191199748886</td>\n",
       "      <td>3788382</td>\n",
       "      <td>3788603</td>\n",
       "    </tr>\n",
       "    <tr>\n",
       "      <th>2865213028299747379</th>\n",
       "      <td>8589934595</td>\n",
       "      <td>3</td>\n",
       "      <td>2220</td>\n",
       "      <td>2263</td>\n",
       "      <td>ST18740813-V01-06-p1.txt-ground_truth</td>\n",
       "      <td>not_bible</td>\n",
       "      <td>Then the same day at evening being the first d...</td>\n",
       "      <td>-7044454596298023190</td>\n",
       "      <td>11725</td>\n",
       "      <td>11940</td>\n",
       "    </tr>\n",
       "    <tr>\n",
       "      <th>5497860786606132514</th>\n",
       "      <td>8589934595</td>\n",
       "      <td>3</td>\n",
       "      <td>899</td>\n",
       "      <td>1002</td>\n",
       "      <td>ST18740813-V01-06-p1.txt-auto_corrected</td>\n",
       "      <td>not_bible</td>\n",
       "      <td>Then the same day at evening made heaven and e...</td>\n",
       "      <td>-7044454596298023190</td>\n",
       "      <td>4712</td>\n",
       "      <td>5229</td>\n",
       "    </tr>\n",
       "    <tr>\n",
       "      <th>-3804236650871972787</th>\n",
       "      <td>8589934596</td>\n",
       "      <td>3</td>\n",
       "      <td>658279</td>\n",
       "      <td>658376</td>\n",
       "      <td>king_james</td>\n",
       "      <td>bible</td>\n",
       "      <td>Think not that I am come to destroy the law, o...</td>\n",
       "      <td>-6359048191199748886</td>\n",
       "      <td>3347091</td>\n",
       "      <td>3347583</td>\n",
       "    </tr>\n",
       "    <tr>\n",
       "      <th>3482510855084061530</th>\n",
       "      <td>8589934596</td>\n",
       "      <td>3</td>\n",
       "      <td>824</td>\n",
       "      <td>918</td>\n",
       "      <td>RH18540815-V06-01-p1.txt-auto_corrected</td>\n",
       "      <td>not_bible</td>\n",
       "      <td>Think not that I am come to destroy the law or...</td>\n",
       "      <td>-7044454596298023190</td>\n",
       "      <td>4522</td>\n",
       "      <td>4993</td>\n",
       "    </tr>\n",
       "    <tr>\n",
       "      <th>-8294220733555118763</th>\n",
       "      <td>8589934596</td>\n",
       "      <td>3</td>\n",
       "      <td>821</td>\n",
       "      <td>914</td>\n",
       "      <td>RH18540815-V06-01-p1.txt-ground_truth</td>\n",
       "      <td>not_bible</td>\n",
       "      <td>Think not that I am come to destroy the law or...</td>\n",
       "      <td>-7044454596298023190</td>\n",
       "      <td>4518</td>\n",
       "      <td>4988</td>\n",
       "    </tr>\n",
       "    <tr>\n",
       "      <th>3482510855084061530</th>\n",
       "      <td>8589934597</td>\n",
       "      <td>3</td>\n",
       "      <td>1173</td>\n",
       "      <td>1214</td>\n",
       "      <td>RH18540815-V06-01-p1.txt-auto_corrected</td>\n",
       "      <td>not_bible</td>\n",
       "      <td>If ye fulfill the royal law according to the s...</td>\n",
       "      <td>-7044454596298023190</td>\n",
       "      <td>6231</td>\n",
       "      <td>6435</td>\n",
       "    </tr>\n",
       "    <tr>\n",
       "      <th>-3804236650871972787</th>\n",
       "      <td>8589934597</td>\n",
       "      <td>3</td>\n",
       "      <td>829270</td>\n",
       "      <td>829310</td>\n",
       "      <td>king_james</td>\n",
       "      <td>bible</td>\n",
       "      <td>If ye\\nfulfil the royal law according to the s...</td>\n",
       "      <td>-6359048191199748886</td>\n",
       "      <td>4215674</td>\n",
       "      <td>4215885</td>\n",
       "    </tr>\n",
       "    <tr>\n",
       "      <th>-8294220733555118763</th>\n",
       "      <td>8589934597</td>\n",
       "      <td>3</td>\n",
       "      <td>1166</td>\n",
       "      <td>1204</td>\n",
       "      <td>RH18540815-V06-01-p1.txt-ground_truth</td>\n",
       "      <td>not_bible</td>\n",
       "      <td>If ye fulfill the royal law according to the s...</td>\n",
       "      <td>-7044454596298023190</td>\n",
       "      <td>6222</td>\n",
       "      <td>6423</td>\n",
       "    </tr>\n",
       "    <tr>\n",
       "      <th>4705574787959326958</th>\n",
       "      <td>8589934598</td>\n",
       "      <td>3</td>\n",
       "      <td>23</td>\n",
       "      <td>48</td>\n",
       "      <td>YI18540801-V02-08-p4.txt-ground_truth</td>\n",
       "      <td>not_bible</td>\n",
       "      <td>Lord my heart is not haughty nor mine eyes lof...</td>\n",
       "      <td>-7044454596298023190</td>\n",
       "      <td>120</td>\n",
       "      <td>245</td>\n",
       "    </tr>\n",
       "    <tr>\n",
       "      <th>1085183594400281083</th>\n",
       "      <td>8589934598</td>\n",
       "      <td>3</td>\n",
       "      <td>34</td>\n",
       "      <td>59</td>\n",
       "      <td>YI18540801-V02-08-p4.txt-auto_corrected</td>\n",
       "      <td>not_bible</td>\n",
       "      <td>Lord my haart is not haughty nor mine eyes lof...</td>\n",
       "      <td>-7044454596298023190</td>\n",
       "      <td>168</td>\n",
       "      <td>293</td>\n",
       "    </tr>\n",
       "    <tr>\n",
       "      <th>-3804236650871972787</th>\n",
       "      <td>8589934598</td>\n",
       "      <td>3</td>\n",
       "      <td>449755</td>\n",
       "      <td>449780</td>\n",
       "      <td>king_james</td>\n",
       "      <td>bible</td>\n",
       "      <td>Lord, my heart is not haughty, nor mine eyes l...</td>\n",
       "      <td>-6359048191199748886</td>\n",
       "      <td>2285896</td>\n",
       "      <td>2286026</td>\n",
       "    </tr>\n",
       "    <tr>\n",
       "      <th>-3804236650871972787</th>\n",
       "      <td>17179869185</td>\n",
       "      <td>2</td>\n",
       "      <td>790145</td>\n",
       "      <td>790264</td>\n",
       "      <td>king_james</td>\n",
       "      <td>bible</td>\n",
       "      <td>For I have received of the Lord that which als...</td>\n",
       "      <td>-6359048191199748886</td>\n",
       "      <td>4014504</td>\n",
       "      <td>4015072</td>\n",
       "    </tr>\n",
       "    <tr>\n",
       "      <th>5497860786606132514</th>\n",
       "      <td>17179869185</td>\n",
       "      <td>2</td>\n",
       "      <td>1505</td>\n",
       "      <td>1815</td>\n",
       "      <td>ST18740813-V01-06-p1.txt-auto_corrected</td>\n",
       "      <td>not_bible</td>\n",
       "      <td>For I have received of the Lord that first day...</td>\n",
       "      <td>-7044454596298023190</td>\n",
       "      <td>7913</td>\n",
       "      <td>9423</td>\n",
       "    </tr>\n",
       "    <tr>\n",
       "      <th>-3804236650871972787</th>\n",
       "      <td>17179869187</td>\n",
       "      <td>2</td>\n",
       "      <td>842269</td>\n",
       "      <td>842311</td>\n",
       "      <td>king_james</td>\n",
       "      <td>bible</td>\n",
       "      <td>they sung a new song, saying, Thou art worthy ...</td>\n",
       "      <td>-6359048191199748886</td>\n",
       "      <td>4282088</td>\n",
       "      <td>4282303</td>\n",
       "    </tr>\n",
       "    <tr>\n",
       "      <th>5497860786606132514</th>\n",
       "      <td>17179869187</td>\n",
       "      <td>2</td>\n",
       "      <td>2527</td>\n",
       "      <td>2637</td>\n",
       "      <td>ST18740813-V01-06-p1.txt-auto_corrected</td>\n",
       "      <td>not_bible</td>\n",
       "      <td>they sung a new song saying Thou art worthy in...</td>\n",
       "      <td>-7044454596298023190</td>\n",
       "      <td>13174</td>\n",
       "      <td>13725</td>\n",
       "    </tr>\n",
       "    <tr>\n",
       "      <th>5497860786606132514</th>\n",
       "      <td>17179869189</td>\n",
       "      <td>2</td>\n",
       "      <td>2164</td>\n",
       "      <td>2220</td>\n",
       "      <td>ST18740813-V01-06-p1.txt-auto_corrected</td>\n",
       "      <td>not_bible</td>\n",
       "      <td>Buried with him in baptism to manifest himself...</td>\n",
       "      <td>-7044454596298023190</td>\n",
       "      <td>11266</td>\n",
       "      <td>11548</td>\n",
       "    </tr>\n",
       "    <tr>\n",
       "      <th>-3804236650871972787</th>\n",
       "      <td>17179869189</td>\n",
       "      <td>2</td>\n",
       "      <td>810828</td>\n",
       "      <td>810850</td>\n",
       "      <td>king_james</td>\n",
       "      <td>bible</td>\n",
       "      <td>Buried with him in baptism, wherein also ye ar...</td>\n",
       "      <td>-6359048191199748886</td>\n",
       "      <td>4119571</td>\n",
       "      <td>4119686</td>\n",
       "    </tr>\n",
       "  </tbody>\n",
       "</table>\n",
       "</div>"
      ],
      "text/plain": [
       "                          cluster  size      bw      ew  \\\n",
       "uid                                                       \n",
       " 2865213028299747379   8589934592     2     660     755   \n",
       "-3804236650871972787   8589934592     2   57343   57443   \n",
       " 5497860786606132514   8589934593     3     695     876   \n",
       "-3804236650871972787   8589934593     3  697896  697964   \n",
       " 2865213028299747379   8589934593     3    2153    2217   \n",
       "-3804236650871972787   8589934594     2  493369  493419   \n",
       " 2865213028299747379   8589934594     2    1998    2047   \n",
       "-3804236650871972787   8589934595     3  746107  746150   \n",
       " 2865213028299747379   8589934595     3    2220    2263   \n",
       " 5497860786606132514   8589934595     3     899    1002   \n",
       "-3804236650871972787   8589934596     3  658279  658376   \n",
       " 3482510855084061530   8589934596     3     824     918   \n",
       "-8294220733555118763   8589934596     3     821     914   \n",
       " 3482510855084061530   8589934597     3    1173    1214   \n",
       "-3804236650871972787   8589934597     3  829270  829310   \n",
       "-8294220733555118763   8589934597     3    1166    1204   \n",
       " 4705574787959326958   8589934598     3      23      48   \n",
       " 1085183594400281083   8589934598     3      34      59   \n",
       "-3804236650871972787   8589934598     3  449755  449780   \n",
       "-3804236650871972787  17179869185     2  790145  790264   \n",
       " 5497860786606132514  17179869185     2    1505    1815   \n",
       "-3804236650871972787  17179869187     2  842269  842311   \n",
       " 5497860786606132514  17179869187     2    2527    2637   \n",
       " 5497860786606132514  17179869189     2    2164    2220   \n",
       "-3804236650871972787  17179869189     2  810828  810850   \n",
       "\n",
       "                                                           id     series  \\\n",
       "uid                                                                        \n",
       " 2865213028299747379    ST18740813-V01-06-p1.txt-ground_truth  not_bible   \n",
       "-3804236650871972787                               king_james      bible   \n",
       " 5497860786606132514  ST18740813-V01-06-p1.txt-auto_corrected  not_bible   \n",
       "-3804236650871972787                               king_james      bible   \n",
       " 2865213028299747379    ST18740813-V01-06-p1.txt-ground_truth  not_bible   \n",
       "-3804236650871972787                               king_james      bible   \n",
       " 2865213028299747379    ST18740813-V01-06-p1.txt-ground_truth  not_bible   \n",
       "-3804236650871972787                               king_james      bible   \n",
       " 2865213028299747379    ST18740813-V01-06-p1.txt-ground_truth  not_bible   \n",
       " 5497860786606132514  ST18740813-V01-06-p1.txt-auto_corrected  not_bible   \n",
       "-3804236650871972787                               king_james      bible   \n",
       " 3482510855084061530  RH18540815-V06-01-p1.txt-auto_corrected  not_bible   \n",
       "-8294220733555118763    RH18540815-V06-01-p1.txt-ground_truth  not_bible   \n",
       " 3482510855084061530  RH18540815-V06-01-p1.txt-auto_corrected  not_bible   \n",
       "-3804236650871972787                               king_james      bible   \n",
       "-8294220733555118763    RH18540815-V06-01-p1.txt-ground_truth  not_bible   \n",
       " 4705574787959326958    YI18540801-V02-08-p4.txt-ground_truth  not_bible   \n",
       " 1085183594400281083  YI18540801-V02-08-p4.txt-auto_corrected  not_bible   \n",
       "-3804236650871972787                               king_james      bible   \n",
       "-3804236650871972787                               king_james      bible   \n",
       " 5497860786606132514  ST18740813-V01-06-p1.txt-auto_corrected  not_bible   \n",
       "-3804236650871972787                               king_james      bible   \n",
       " 5497860786606132514  ST18740813-V01-06-p1.txt-auto_corrected  not_bible   \n",
       " 5497860786606132514  ST18740813-V01-06-p1.txt-auto_corrected  not_bible   \n",
       "-3804236650871972787                               king_james      bible   \n",
       "\n",
       "                                                                   text  \\\n",
       "uid                                                                       \n",
       " 2865213028299747379  Remember the Sabbath day to keep it holy. Six ...   \n",
       "-3804236650871972787  Remember the sabbath day, to keep it holy.\\n\\n...   \n",
       " 5497860786606132514  form unto two of them as they walked Remember ...   \n",
       "-3804236650871972787  he appeared in another form unto two of them, ...   \n",
       " 2865213028299747379  He appeared in another form unto two of them a...   \n",
       "-3804236650871972787  The earth also is defiled under the inhabitant...   \n",
       " 2865213028299747379  The earth also is defiled under the inhabitant...   \n",
       "-3804236650871972787  Then the same day at evening, being the first ...   \n",
       " 2865213028299747379  Then the same day at evening being the first d...   \n",
       " 5497860786606132514  Then the same day at evening made heaven and e...   \n",
       "-3804236650871972787  Think not that I am come to destroy the law, o...   \n",
       " 3482510855084061530  Think not that I am come to destroy the law or...   \n",
       "-8294220733555118763  Think not that I am come to destroy the law or...   \n",
       " 3482510855084061530  If ye fulfill the royal law according to the s...   \n",
       "-3804236650871972787  If ye\\nfulfil the royal law according to the s...   \n",
       "-8294220733555118763  If ye fulfill the royal law according to the s...   \n",
       " 4705574787959326958  Lord my heart is not haughty nor mine eyes lof...   \n",
       " 1085183594400281083  Lord my haart is not haughty nor mine eyes lof...   \n",
       "-3804236650871972787  Lord, my heart is not haughty, nor mine eyes l...   \n",
       "-3804236650871972787  For I have received of the Lord that which als...   \n",
       " 5497860786606132514  For I have received of the Lord that first day...   \n",
       "-3804236650871972787  they sung a new song, saying, Thou art worthy ...   \n",
       " 5497860786606132514  they sung a new song saying Thou art worthy in...   \n",
       " 5497860786606132514  Buried with him in baptism to manifest himself...   \n",
       "-3804236650871972787  Buried with him in baptism, wherein also ye ar...   \n",
       "\n",
       "                                      gid    begin      end  \n",
       "uid                                                          \n",
       " 2865213028299747379 -7044454596298023190     3562     4031  \n",
       "-3804236650871972787 -6359048191199748886   286783   287288  \n",
       " 5497860786606132514 -7044454596298023190     3695     4609  \n",
       "-3804236650871972787 -6359048191199748886  3547514  3547881  \n",
       " 2865213028299747379 -7044454596298023190    11361    11708  \n",
       "-3804236650871972787 -6359048191199748886  2506203  2506520  \n",
       " 2865213028299747379 -7044454596298023190    10494    10790  \n",
       "-3804236650871972787 -6359048191199748886  3788382  3788603  \n",
       " 2865213028299747379 -7044454596298023190    11725    11940  \n",
       " 5497860786606132514 -7044454596298023190     4712     5229  \n",
       "-3804236650871972787 -6359048191199748886  3347091  3347583  \n",
       " 3482510855084061530 -7044454596298023190     4522     4993  \n",
       "-8294220733555118763 -7044454596298023190     4518     4988  \n",
       " 3482510855084061530 -7044454596298023190     6231     6435  \n",
       "-3804236650871972787 -6359048191199748886  4215674  4215885  \n",
       "-8294220733555118763 -7044454596298023190     6222     6423  \n",
       " 4705574787959326958 -7044454596298023190      120      245  \n",
       " 1085183594400281083 -7044454596298023190      168      293  \n",
       "-3804236650871972787 -6359048191199748886  2285896  2286026  \n",
       "-3804236650871972787 -6359048191199748886  4014504  4015072  \n",
       " 5497860786606132514 -7044454596298023190     7913     9423  \n",
       "-3804236650871972787 -6359048191199748886  4282088  4282303  \n",
       " 5497860786606132514 -7044454596298023190    13174    13725  \n",
       " 5497860786606132514 -7044454596298023190    11266    11548  \n",
       "-3804236650871972787 -6359048191199748886  4119571  4119686  "
      ]
     },
     "execution_count": 16,
     "metadata": {},
     "output_type": "execute_result"
    }
   ],
   "source": [
    "tr_passages.sort_values(by=['cluster'])"
   ]
  },
  {
   "cell_type": "code",
   "execution_count": null,
   "metadata": {},
   "outputs": [],
   "source": []
  },
  {
   "cell_type": "code",
   "execution_count": null,
   "metadata": {},
   "outputs": [],
   "source": []
  }
 ],
 "metadata": {
  "kernelspec": {
   "display_name": "Python [conda env:ocr] *",
   "language": "python",
   "name": "conda-env-ocr-py"
  },
  "language_info": {
   "codemirror_mode": {
    "name": "ipython",
    "version": 3
   },
   "file_extension": ".py",
   "mimetype": "text/x-python",
   "name": "python",
   "nbconvert_exporter": "python",
   "pygments_lexer": "ipython3",
   "version": "3.8.10"
  },
  "toc": {
   "base_numbering": 1,
   "nav_menu": {},
   "number_sections": true,
   "sideBar": true,
   "skip_h1_title": false,
   "title_cell": "Table of Contents",
   "title_sidebar": "Contents",
   "toc_cell": false,
   "toc_position": {
    "height": "calc(100% - 180px)",
    "left": "10px",
    "top": "150px",
    "width": "325px"
   },
   "toc_section_display": true,
   "toc_window_display": true
  }
 },
 "nbformat": 4,
 "nbformat_minor": 4
}
