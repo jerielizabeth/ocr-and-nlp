{
 "cells": [
  {
   "cell_type": "markdown",
   "id": "e7d0004b",
   "metadata": {},
   "source": [
    "## Abstractive Summarizer"
   ]
  },
  {
   "cell_type": "markdown",
   "id": "ffd880a3",
   "metadata": {},
   "source": [
    "Resources:\n",
    "- https://towardsdatascience.com/summarization-has-gotten-commoditized-thanks-to-bert-9bb73f2d6922\n",
    "- https://medium.com/analytics-vidhya/text-summarization-using-bert-gpt2-xlnet-5ee80608e961\n",
    "- https://huggingface.co/transformers/main_classes/pipelines.html#transformers.SummarizationPipeline\n",
    "- https://huggingface.co/transformers/model_doc/t5.html\n",
    "- https://towardsdatascience.com/simple-abstractive-text-summarization-with-pretrained-t5-text-to-text-transfer-transformer-10f6d602c426"
   ]
  },
  {
   "cell_type": "code",
   "execution_count": 1,
   "id": "c4e28580",
   "metadata": {},
   "outputs": [],
   "source": [
    "import pandas as pd\n",
    "from summarizer import Summarizer,TransformerSummarizer\n",
    "# from transformers import pipeline"
   ]
  },
  {
   "cell_type": "code",
   "execution_count": 2,
   "id": "6eec8449",
   "metadata": {},
   "outputs": [],
   "source": [
    "text_df = pd.read_pickle(\"../data/all_text.pkl\")"
   ]
  },
  {
   "cell_type": "code",
   "execution_count": 3,
   "id": "72950342",
   "metadata": {},
   "outputs": [
    {
     "data": {
      "text/html": [
       "<div>\n",
       "<style scoped>\n",
       "    .dataframe tbody tr th:only-of-type {\n",
       "        vertical-align: middle;\n",
       "    }\n",
       "\n",
       "    .dataframe tbody tr th {\n",
       "        vertical-align: top;\n",
       "    }\n",
       "\n",
       "    .dataframe thead th {\n",
       "        text-align: right;\n",
       "    }\n",
       "</style>\n",
       "<table border=\"1\" class=\"dataframe\">\n",
       "  <thead>\n",
       "    <tr style=\"text-align: right;\">\n",
       "      <th></th>\n",
       "      <th>doc_id</th>\n",
       "      <th>text</th>\n",
       "      <th>type</th>\n",
       "      <th>text_cleaned</th>\n",
       "      <th>text_cleaned_sent</th>\n",
       "      <th>text_cleaned_nlp</th>\n",
       "    </tr>\n",
       "  </thead>\n",
       "  <tbody>\n",
       "    <tr>\n",
       "      <th>0</th>\n",
       "      <td>HR18660801-V01-01-p8.txt-auto_corrected</td>\n",
       "      <td>\" \" O\\nC\\n'l'HE HEALTH REFORMER. : ,. r  c ,;...</td>\n",
       "      <td>auto_corrected</td>\n",
       "      <td>c  l he health reformer       r c     cy  ...</td>\n",
       "      <td>c  l he health reformer.    . r c     cy  ...</td>\n",
       "      <td>O C l HE HEALTH REFORMER. . r c CY c c x . x x...</td>\n",
       "    </tr>\n",
       "    <tr>\n",
       "      <th>1</th>\n",
       "      <td>YI18540801-V02-08-p4.txt-auto_corrected</td>\n",
       "      <td>,man , III z onnasalpm twzI 11 11 11 1, 'IAA U...</td>\n",
       "      <td>auto_corrected</td>\n",
       "      <td>man   iii z onnasalpm twzi              iaa u...</td>\n",
       "      <td>man   iii z onnasalpm twzi              iaa u...</td>\n",
       "      <td>man III z onnasalpm twzI IAA UM I II . KJ . . ...</td>\n",
       "    </tr>\n",
       "    <tr>\n",
       "      <th>2</th>\n",
       "      <td>ST18740813-V01-06-p1.txt-auto_corrected</td>\n",
       "      <td>kr ffiigno the Zintro IS ISSUED WEEKLY AT OAKL...</td>\n",
       "      <td>auto_corrected</td>\n",
       "      <td>kr ffiigno zintro issued weekly oakland  calif...</td>\n",
       "      <td>kr ffiigno zintro issued weekly oakland  calif...</td>\n",
       "      <td>kr ffiigno the Zintro IS ISSUED WEEKLY AT OAKL...</td>\n",
       "    </tr>\n",
       "    <tr>\n",
       "      <th>3</th>\n",
       "      <td>RH18540815-V06-01-p1.txt-auto_corrected</td>\n",
       "      <td>THE REVIEW AND HERALD. IS PUBLISHED WEEKLY At ...</td>\n",
       "      <td>auto_corrected</td>\n",
       "      <td>review herald  published weekly south st  paul...</td>\n",
       "      <td>review herald. published weekly south st. paul...</td>\n",
       "      <td>THE REVIEW AND HERALD. IS PUBLISHED WEEKLY At ...</td>\n",
       "    </tr>\n",
       "    <tr>\n",
       "      <th>4</th>\n",
       "      <td>HR18660801-V01-01-p8.txt-ground_truth</td>\n",
       "      <td>8     THE HEALTH REFORMER\\n\\nEditorial.\\n\\nTo ...</td>\n",
       "      <td>ground_truth</td>\n",
       "      <td>health reformer editorial  reader  h  s  lay...</td>\n",
       "      <td>health reformer editorial. reader. h. s. lay...</td>\n",
       "      <td>THE HEALTH REFORMER Editorial. To the Reader. ...</td>\n",
       "    </tr>\n",
       "    <tr>\n",
       "      <th>5</th>\n",
       "      <td>YI18540801-V02-08-p4.txt-ground_truth</td>\n",
       "      <td>60     YOUTH'S INSTRUCTOR. \\n\\nhumble man Davi...</td>\n",
       "      <td>ground_truth</td>\n",
       "      <td>youth s instructor  humble man david was  a...</td>\n",
       "      <td>youth s instructor. humble man david was. a...</td>\n",
       "      <td>YOUTH S INSTRUCTOR. humble man David was. Alth...</td>\n",
       "    </tr>\n",
       "    <tr>\n",
       "      <th>6</th>\n",
       "      <td>ST18740813-V01-06-p1.txt-ground_truth</td>\n",
       "      <td>The Signs of the Times.\\n\"Behold, I come quick...</td>\n",
       "      <td>ground_truth</td>\n",
       "      <td>signs times   behold  come quickly  reward me ...</td>\n",
       "      <td>signs times.  behold  come quickly  reward me ...</td>\n",
       "      <td>The Signs of the Times. Behold I come quickly ...</td>\n",
       "    </tr>\n",
       "    <tr>\n",
       "      <th>7</th>\n",
       "      <td>RH18540815-V06-01-p1.txt-ground_truth</td>\n",
       "      <td>THE ADVENT REVIEW, \\nAND SABBATH HERALD.\\n\\nHe...</td>\n",
       "      <td>ground_truth</td>\n",
       "      <td>advent review  sabbath herald  patience saints...</td>\n",
       "      <td>advent review  sabbath herald. patience saints...</td>\n",
       "      <td>THE ADVENT REVIEW AND SABBATH HERALD. Here is ...</td>\n",
       "    </tr>\n",
       "  </tbody>\n",
       "</table>\n",
       "</div>"
      ],
      "text/plain": [
       "                                    doc_id  \\\n",
       "0  HR18660801-V01-01-p8.txt-auto_corrected   \n",
       "1  YI18540801-V02-08-p4.txt-auto_corrected   \n",
       "2  ST18740813-V01-06-p1.txt-auto_corrected   \n",
       "3  RH18540815-V06-01-p1.txt-auto_corrected   \n",
       "4    HR18660801-V01-01-p8.txt-ground_truth   \n",
       "5    YI18540801-V02-08-p4.txt-ground_truth   \n",
       "6    ST18740813-V01-06-p1.txt-ground_truth   \n",
       "7    RH18540815-V06-01-p1.txt-ground_truth   \n",
       "\n",
       "                                                text            type  \\\n",
       "0   \" \" O\\nC\\n'l'HE HEALTH REFORMER. : ,. r  c ,;...  auto_corrected   \n",
       "1  ,man , III z onnasalpm twzI 11 11 11 1, 'IAA U...  auto_corrected   \n",
       "2  kr ffiigno the Zintro IS ISSUED WEEKLY AT OAKL...  auto_corrected   \n",
       "3  THE REVIEW AND HERALD. IS PUBLISHED WEEKLY At ...  auto_corrected   \n",
       "4  8     THE HEALTH REFORMER\\n\\nEditorial.\\n\\nTo ...    ground_truth   \n",
       "5  60     YOUTH'S INSTRUCTOR. \\n\\nhumble man Davi...    ground_truth   \n",
       "6  The Signs of the Times.\\n\"Behold, I come quick...    ground_truth   \n",
       "7  THE ADVENT REVIEW, \\nAND SABBATH HERALD.\\n\\nHe...    ground_truth   \n",
       "\n",
       "                                        text_cleaned  \\\n",
       "0      c  l he health reformer       r c     cy  ...   \n",
       "1   man   iii z onnasalpm twzi              iaa u...   \n",
       "2  kr ffiigno zintro issued weekly oakland  calif...   \n",
       "3  review herald  published weekly south st  paul...   \n",
       "4    health reformer editorial  reader  h  s  lay...   \n",
       "5     youth s instructor  humble man david was  a...   \n",
       "6  signs times   behold  come quickly  reward me ...   \n",
       "7  advent review  sabbath herald  patience saints...   \n",
       "\n",
       "                                   text_cleaned_sent  \\\n",
       "0      c  l he health reformer.    . r c     cy  ...   \n",
       "1   man   iii z onnasalpm twzi              iaa u...   \n",
       "2  kr ffiigno zintro issued weekly oakland  calif...   \n",
       "3  review herald. published weekly south st. paul...   \n",
       "4    health reformer editorial. reader. h. s. lay...   \n",
       "5     youth s instructor. humble man david was. a...   \n",
       "6  signs times.  behold  come quickly  reward me ...   \n",
       "7  advent review  sabbath herald. patience saints...   \n",
       "\n",
       "                                    text_cleaned_nlp  \n",
       "0  O C l HE HEALTH REFORMER. . r c CY c c x . x x...  \n",
       "1  man III z onnasalpm twzI IAA UM I II . KJ . . ...  \n",
       "2  kr ffiigno the Zintro IS ISSUED WEEKLY AT OAKL...  \n",
       "3  THE REVIEW AND HERALD. IS PUBLISHED WEEKLY At ...  \n",
       "4  THE HEALTH REFORMER Editorial. To the Reader. ...  \n",
       "5  YOUTH S INSTRUCTOR. humble man David was. Alth...  \n",
       "6  The Signs of the Times. Behold I come quickly ...  \n",
       "7  THE ADVENT REVIEW AND SABBATH HERALD. Here is ...  "
      ]
     },
     "execution_count": 3,
     "metadata": {},
     "output_type": "execute_result"
    }
   ],
   "source": [
    "text_df"
   ]
  },
  {
   "cell_type": "code",
   "execution_count": 4,
   "id": "dd4bbf83",
   "metadata": {},
   "outputs": [
    {
     "data": {
      "text/plain": [
       "'THE HEALTH REFORMER Editorial. To the Reader. BY H. S. LAY M.D. In coming for the first time before the public as an editor of a Health Reform Journal it may be expected that we say a word to our readers in reference to what we intend to do and what we design shall be the style and character of the periodical of which we have been placed in charge. Knowing something of the great responsibilities that will be thrown upon us by this new position it would be with some misgivings that we engage in this enterprise were it not for our ardent desire to do all that lies in our power to instruct and benefit the people in relation to the right method of living and if we do not also expect the hearty co operation of those who have the health and well being of the people at heart. It shall be our great object to lay before our readers the facts of vital importance in relation to the health reform and aim to instruct the people how to avoid sickness or if sick how to regain their health and that without poisons. It shall be our constant aim to make the HEALTH REFORMER worthy the patronage of an intelligent and candid public. Its contributors will be persons of experience and of high mental and moral attainments. Its selections will be of the choicest kind. We also design to devote a limited space in each number to the answering of questions proposed by our readers relative to home treatment c. which will be worth more than the price of the Journal. Not only will the reading matter be of a high order but the paper and type will be of the nicest quality. In a word we intend to make it a first class Health Journal one that will commend itself to the good judgement of an intelligent public. And now what we ask of all who receive this number is that they will do all they can to obtain subscriptions for this Journal and to increase its circulation. Sickness has come to be the ruling condition of mankind and health the exception and a better state of things cannot be expected until the laws of life and health are better understood and obeyed. These laws we shall endeavor faithfully to explain and shall inculcate a strict and intelligent obedience thereto. The subject of Health is not a denominational subject. All classes and all parties are equally interested in it. While therefore we shall advocate the proper care of our bodies or the preservation of health from a religious standpoint that is as a moral duty it will not be from a denominational one but what we may have to say will be adapted to the cases and necessities of all classes. To all therefore to whom these introductory remarks may come we extend the friendly hand and say Give us your patronage and we will endeavor to impart to you some principles of the science of healthful living and value of which is not to be estimated in dollars and cents. No Change of Diet Required. BY ELD. R. F. COTTRELL. There is the highest commendation of medicines to the people of the present age. Hence it is an inducement to quacks to recommend their nostrums in this way. If the people can hope to be cured of their maladies by swallowing a drug and at the same time continue to violate the laws of their being by swallowing all the varieties of unwholesome and deleterious articles of diet that have brought their sickness upon them it is accounted a fine thing. Gluttons are the last sort of people who want to starve to death. They wish to make no change from their self destructive way of living. They will have their baneful luxuries live or die hence they patronize the medicine labeled No Change of Diet Required. The poet Pope was right in his description of the rulling passion of the glutton. I give his description changed a little to suit our own times and to make it intelligible to the reader A feast of swine s flesh glutton was thy fate The doctor calls declares all help too late. Mercy! cries glutton mercy on my soul! Is there no hope? Alas! The bring the jole!'"
      ]
     },
     "execution_count": 4,
     "metadata": {},
     "output_type": "execute_result"
    }
   ],
   "source": [
    "test_text = text_df.iloc[4][\"text_cleaned_nlp\"]\n",
    "test_text"
   ]
  },
  {
   "cell_type": "code",
   "execution_count": 5,
   "id": "6d8e9c2a",
   "metadata": {},
   "outputs": [
    {
     "name": "stderr",
     "output_type": "stream",
     "text": [
      "Some weights of the model checkpoint at bert-large-uncased were not used when initializing BertModel: ['cls.seq_relationship.bias', 'cls.predictions.transform.dense.weight', 'cls.predictions.transform.dense.bias', 'cls.predictions.transform.LayerNorm.bias', 'cls.predictions.transform.LayerNorm.weight', 'cls.predictions.bias', 'cls.seq_relationship.weight', 'cls.predictions.decoder.weight']\n",
      "- This IS expected if you are initializing BertModel from the checkpoint of a model trained on another task or with another architecture (e.g. initializing a BertForSequenceClassification model from a BertForPreTraining model).\n",
      "- This IS NOT expected if you are initializing BertModel from the checkpoint of a model that you expect to be exactly identical (initializing a BertForSequenceClassification model from a BertForSequenceClassification model).\n"
     ]
    },
    {
     "name": "stdout",
     "output_type": "stream",
     "text": [
      "BY H. S. LAY M.D. In coming for the first time before the public as an editor of a Health Reform Journal it may be expected that we say a word to our readers in reference to what we intend to do and what we design shall be the style and character of the periodical of which we have been placed in charge. Knowing something of the great responsibilities that will be thrown upon us by this new position it would be with some misgivings that we engage in this enterprise were it not for our ardent desire to do all that lies in our power to instruct and benefit the people in relation to the right method of living and if we do not also expect the hearty co operation of those who have the health and well being of the people at heart. And now what we ask of all who receive this number is that they will do all they can to obtain subscriptions for this Journal and to increase its circulation. Hence it is an inducement to quacks to recommend their nostrums in this way. Gluttons are the last sort of people who want to starve to death.\n"
     ]
    }
   ],
   "source": [
    "# Note - BERT is extractive, rather than abstractive\n",
    "\n",
    "bert_model = Summarizer()\n",
    "bert_summary = ''.join(bert_model(test_text, min_length=60))\n",
    "print(bert_summary)"
   ]
  },
  {
   "cell_type": "code",
   "execution_count": 6,
   "id": "3eb439bd",
   "metadata": {},
   "outputs": [
    {
     "name": "stdout",
     "output_type": "stream",
     "text": [
      "BY H. S. LAY M.D. In coming for the first time before the public as an editor of a Health Reform Journal it may be expected that we say a word to our readers in reference to what we intend to do and what we design shall be the style and character of the periodical of which we have been placed in charge. Knowing something of the great responsibilities that will be thrown upon us by this new position it would be with some misgivings that we engage in this enterprise were it not for our ardent desire to do all that lies in our power to instruct and benefit the people in relation to the right method of living and if we do not also expect the hearty co operation of those who have the health and well being of the people at heart. Its contributors will be persons of experience and of high mental and moral attainments. In a word we intend to make it a first class Health Journal one that will commend itself to the good judgement of an intelligent public. Gluttons are the last sort of people who want to starve to death.\n"
     ]
    }
   ],
   "source": [
    "GPT2_model = TransformerSummarizer(transformer_type=\"GPT2\",transformer_model_key=\"gpt2-medium\")\n",
    "full = ''.join(GPT2_model(test_text, min_length=60))\n",
    "print(full)"
   ]
  },
  {
   "cell_type": "markdown",
   "id": "abef5dd7",
   "metadata": {},
   "source": [
    "### GPT2 Model"
   ]
  },
  {
   "cell_type": "code",
   "execution_count": 7,
   "id": "f2a0e4d4",
   "metadata": {},
   "outputs": [],
   "source": [
    "text_df['gpt2_summary'] = text_df.text_cleaned_nlp.apply(lambda x: ''.join(GPT2_model(x, min_length=60, max_length=350)))"
   ]
  },
  {
   "cell_type": "code",
   "execution_count": 8,
   "id": "99cee6d7",
   "metadata": {},
   "outputs": [
    {
     "data": {
      "text/html": [
       "<div>\n",
       "<style scoped>\n",
       "    .dataframe tbody tr th:only-of-type {\n",
       "        vertical-align: middle;\n",
       "    }\n",
       "\n",
       "    .dataframe tbody tr th {\n",
       "        vertical-align: top;\n",
       "    }\n",
       "\n",
       "    .dataframe thead th {\n",
       "        text-align: right;\n",
       "    }\n",
       "</style>\n",
       "<table border=\"1\" class=\"dataframe\">\n",
       "  <thead>\n",
       "    <tr style=\"text-align: right;\">\n",
       "      <th></th>\n",
       "      <th>doc_id</th>\n",
       "      <th>text</th>\n",
       "      <th>type</th>\n",
       "      <th>text_cleaned</th>\n",
       "      <th>text_cleaned_sent</th>\n",
       "      <th>text_cleaned_nlp</th>\n",
       "      <th>gpt2_summary</th>\n",
       "    </tr>\n",
       "  </thead>\n",
       "  <tbody>\n",
       "    <tr>\n",
       "      <th>0</th>\n",
       "      <td>HR18660801-V01-01-p8.txt-auto_corrected</td>\n",
       "      <td>\" \" O\\nC\\n'l'HE HEALTH REFORMER. : ,. r  c ,;...</td>\n",
       "      <td>auto_corrected</td>\n",
       "      <td>c  l he health reformer       r c     cy  ...</td>\n",
       "      <td>c  l he health reformer.    . r c     cy  ...</td>\n",
       "      <td>O C l HE HEALTH REFORMER. . r c CY c c x . x x...</td>\n",
       "      <td>tion and a better state of things cannot be ex...</td>\n",
       "    </tr>\n",
       "    <tr>\n",
       "      <th>1</th>\n",
       "      <td>YI18540801-V02-08-p4.txt-auto_corrected</td>\n",
       "      <td>,man , III z onnasalpm twzI 11 11 11 1, 'IAA U...</td>\n",
       "      <td>auto_corrected</td>\n",
       "      <td>man   iii z onnasalpm twzi              iaa u...</td>\n",
       "      <td>man   iii z onnasalpm twzi              iaa u...</td>\n",
       "      <td>man III z onnasalpm twzI IAA UM I II . KJ . . ...</td>\n",
       "      <td>Although he was the Jing of Israel yet he was ...</td>\n",
       "    </tr>\n",
       "    <tr>\n",
       "      <th>2</th>\n",
       "      <td>ST18740813-V01-06-p1.txt-auto_corrected</td>\n",
       "      <td>kr ffiigno the Zintro IS ISSUED WEEKLY AT OAKL...</td>\n",
       "      <td>auto_corrected</td>\n",
       "      <td>kr ffiigno zintro issued weekly oakland  calif...</td>\n",
       "      <td>kr ffiigno zintro issued weekly oakland  calif...</td>\n",
       "      <td>kr ffiigno the Zintro IS ISSUED WEEKLY AT OAKL...</td>\n",
       "      <td>kr ffiigno the Zintro IS ISSUED WEEKLY AT OAKL...</td>\n",
       "    </tr>\n",
       "    <tr>\n",
       "      <th>3</th>\n",
       "      <td>RH18540815-V06-01-p1.txt-auto_corrected</td>\n",
       "      <td>THE REVIEW AND HERALD. IS PUBLISHED WEEKLY At ...</td>\n",
       "      <td>auto_corrected</td>\n",
       "      <td>review herald  published weekly south st  paul...</td>\n",
       "      <td>review herald. published weekly south st. paul...</td>\n",
       "      <td>THE REVIEW AND HERALD. IS PUBLISHED WEEKLY At ...</td>\n",
       "      <td>J. N. ANDREWS R. F. COTTRELL URIAH SMITH Publi...</td>\n",
       "    </tr>\n",
       "    <tr>\n",
       "      <th>4</th>\n",
       "      <td>HR18660801-V01-01-p8.txt-ground_truth</td>\n",
       "      <td>8     THE HEALTH REFORMER\\n\\nEditorial.\\n\\nTo ...</td>\n",
       "      <td>ground_truth</td>\n",
       "      <td>health reformer editorial  reader  h  s  lay...</td>\n",
       "      <td>health reformer editorial. reader. h. s. lay...</td>\n",
       "      <td>THE HEALTH REFORMER Editorial. To the Reader. ...</td>\n",
       "      <td>BY H. S. LAY M.D. In coming for the first time...</td>\n",
       "    </tr>\n",
       "    <tr>\n",
       "      <th>5</th>\n",
       "      <td>YI18540801-V02-08-p4.txt-ground_truth</td>\n",
       "      <td>60     YOUTH'S INSTRUCTOR. \\n\\nhumble man Davi...</td>\n",
       "      <td>ground_truth</td>\n",
       "      <td>youth s instructor  humble man david was  a...</td>\n",
       "      <td>youth s instructor. humble man david was. a...</td>\n",
       "      <td>YOUTH S INSTRUCTOR. humble man David was. Alth...</td>\n",
       "      <td>Although he was the King of Israel yet he was ...</td>\n",
       "    </tr>\n",
       "    <tr>\n",
       "      <th>6</th>\n",
       "      <td>ST18740813-V01-06-p1.txt-ground_truth</td>\n",
       "      <td>The Signs of the Times.\\n\"Behold, I come quick...</td>\n",
       "      <td>ground_truth</td>\n",
       "      <td>signs times   behold  come quickly  reward me ...</td>\n",
       "      <td>signs times.  behold  come quickly  reward me ...</td>\n",
       "      <td>The Signs of the Times. Behold I come quickly ...</td>\n",
       "      <td>Behold I come quickly and my reward is with me...</td>\n",
       "    </tr>\n",
       "    <tr>\n",
       "      <th>7</th>\n",
       "      <td>RH18540815-V06-01-p1.txt-ground_truth</td>\n",
       "      <td>THE ADVENT REVIEW, \\nAND SABBATH HERALD.\\n\\nHe...</td>\n",
       "      <td>ground_truth</td>\n",
       "      <td>advent review  sabbath herald  patience saints...</td>\n",
       "      <td>advent review  sabbath herald. patience saints...</td>\n",
       "      <td>THE ADVENT REVIEW AND SABBATH HERALD. Here is ...</td>\n",
       "      <td>Here is the Patience of the Saints Here are th...</td>\n",
       "    </tr>\n",
       "  </tbody>\n",
       "</table>\n",
       "</div>"
      ],
      "text/plain": [
       "                                    doc_id  \\\n",
       "0  HR18660801-V01-01-p8.txt-auto_corrected   \n",
       "1  YI18540801-V02-08-p4.txt-auto_corrected   \n",
       "2  ST18740813-V01-06-p1.txt-auto_corrected   \n",
       "3  RH18540815-V06-01-p1.txt-auto_corrected   \n",
       "4    HR18660801-V01-01-p8.txt-ground_truth   \n",
       "5    YI18540801-V02-08-p4.txt-ground_truth   \n",
       "6    ST18740813-V01-06-p1.txt-ground_truth   \n",
       "7    RH18540815-V06-01-p1.txt-ground_truth   \n",
       "\n",
       "                                                text            type  \\\n",
       "0   \" \" O\\nC\\n'l'HE HEALTH REFORMER. : ,. r  c ,;...  auto_corrected   \n",
       "1  ,man , III z onnasalpm twzI 11 11 11 1, 'IAA U...  auto_corrected   \n",
       "2  kr ffiigno the Zintro IS ISSUED WEEKLY AT OAKL...  auto_corrected   \n",
       "3  THE REVIEW AND HERALD. IS PUBLISHED WEEKLY At ...  auto_corrected   \n",
       "4  8     THE HEALTH REFORMER\\n\\nEditorial.\\n\\nTo ...    ground_truth   \n",
       "5  60     YOUTH'S INSTRUCTOR. \\n\\nhumble man Davi...    ground_truth   \n",
       "6  The Signs of the Times.\\n\"Behold, I come quick...    ground_truth   \n",
       "7  THE ADVENT REVIEW, \\nAND SABBATH HERALD.\\n\\nHe...    ground_truth   \n",
       "\n",
       "                                        text_cleaned  \\\n",
       "0      c  l he health reformer       r c     cy  ...   \n",
       "1   man   iii z onnasalpm twzi              iaa u...   \n",
       "2  kr ffiigno zintro issued weekly oakland  calif...   \n",
       "3  review herald  published weekly south st  paul...   \n",
       "4    health reformer editorial  reader  h  s  lay...   \n",
       "5     youth s instructor  humble man david was  a...   \n",
       "6  signs times   behold  come quickly  reward me ...   \n",
       "7  advent review  sabbath herald  patience saints...   \n",
       "\n",
       "                                   text_cleaned_sent  \\\n",
       "0      c  l he health reformer.    . r c     cy  ...   \n",
       "1   man   iii z onnasalpm twzi              iaa u...   \n",
       "2  kr ffiigno zintro issued weekly oakland  calif...   \n",
       "3  review herald. published weekly south st. paul...   \n",
       "4    health reformer editorial. reader. h. s. lay...   \n",
       "5     youth s instructor. humble man david was. a...   \n",
       "6  signs times.  behold  come quickly  reward me ...   \n",
       "7  advent review  sabbath herald. patience saints...   \n",
       "\n",
       "                                    text_cleaned_nlp  \\\n",
       "0  O C l HE HEALTH REFORMER. . r c CY c c x . x x...   \n",
       "1  man III z onnasalpm twzI IAA UM I II . KJ . . ...   \n",
       "2  kr ffiigno the Zintro IS ISSUED WEEKLY AT OAKL...   \n",
       "3  THE REVIEW AND HERALD. IS PUBLISHED WEEKLY At ...   \n",
       "4  THE HEALTH REFORMER Editorial. To the Reader. ...   \n",
       "5  YOUTH S INSTRUCTOR. humble man David was. Alth...   \n",
       "6  The Signs of the Times. Behold I come quickly ...   \n",
       "7  THE ADVENT REVIEW AND SABBATH HERALD. Here is ...   \n",
       "\n",
       "                                        gpt2_summary  \n",
       "0  tion and a better state of things cannot be ex...  \n",
       "1  Although he was the Jing of Israel yet he was ...  \n",
       "2  kr ffiigno the Zintro IS ISSUED WEEKLY AT OAKL...  \n",
       "3  J. N. ANDREWS R. F. COTTRELL URIAH SMITH Publi...  \n",
       "4  BY H. S. LAY M.D. In coming for the first time...  \n",
       "5  Although he was the King of Israel yet he was ...  \n",
       "6  Behold I come quickly and my reward is with me...  \n",
       "7  Here is the Patience of the Saints Here are th...  "
      ]
     },
     "execution_count": 8,
     "metadata": {},
     "output_type": "execute_result"
    }
   ],
   "source": [
    "text_df"
   ]
  },
  {
   "cell_type": "code",
   "execution_count": 9,
   "id": "8048004b",
   "metadata": {
    "scrolled": false
   },
   "outputs": [
    {
     "name": "stdout",
     "output_type": "stream",
     "text": [
      "tion and a better state of things cannot be expected until the laws of life rnd health are better understood and obeyed. th explain and shall inculcate a strict and n comm or tie rs me eiore e ! II te d urh l ties arc equa y m reste m t. n e we rntend to do and what we design shall b l l d l t f h . Hence it is an inducement to quacks worthy tht patronage of an intelligent and to recommend their rwstrums in this way. Gh ttons are the last sort of people that want to starve to leath. thi number is that they will do all they I A fea t of swine fl h I tton wa thy fate i es.\n",
      "---\n",
      "\n",
      "Although he was the Jing of Israel yet he was meek and child like. Read a sentence and then look off and think it over in your mind before proceeding to the next and so on through the lesson. Then God has given us a perfect rule of ac tion a perfect law and if we obey it we shall do just right. A boy writes a word of teu letters on a slate and spells it per fectly right. To say that he done so is speaking against his wisdom and his truth. They were given to point sinners forward to the death of Christ for forgiveness and when he died they could be used no longer. Each one would de sire to have a law to please himself and no man s judgment is good enough to make a law that\n",
      "---\n",
      "\n",
      "kr ffiigno the Zintro IS ISSUED WEEKLY AT OAKLAND CALIFORNIA. All Scripture is given by inspiration of God and is profitable for doctrine for reproof for correction for instruction in righteousness that the man of God may be perfect thoroughly furnished unto all good works. IN this text we are assured that every word of the sacred Scriptures was given by the Holy Spirit that every doctrine which men should believe is therein revealed that every fault is therein reproved that every error is cor rected by its words of truth and that per fect instruction in all righteousness is there in given. Those who are willing to submit their opinions to the test of Scrip ture and of reason are invited to unite with us in the examination of this subject. Mark the sweet reward of Heaven When Satan took his flight Angels to minister were given With consolation bright. Behold I come quickly and my reward is with me to give every man according as his work shall be. It needs but a word to make this clear He appeared in an mandment which it is said has been changed prove that in this respect it is far exceeded other form unto two of them as they walked Remember the Sabbath day to keep it by the day of the crucifixion. with their unbelief and hardness of heart be daughter thy man servant nor thy maid There is only one answer that can be given cause they believed not them which had seen servant nor thy cattle nor thy stranger that It was not remarkable that God should raise him after he was risen. Who can stood in the midst and saith unto them That this Commandment requires men to wonder that the sun was vailed in darkness Peace be unto you. It is a fact therefore that the disciples the Creator which he hallowed at the close The crucifixion day therefore has far greater were not commemorating the resurrection of of the first week of time none can deny. You which is thereby proved to be the Christian give us one which testifies that God ever need not keep the day of his crucifixion. blessed and sanctified the first day of the Bible tells you how to do it. For as often as came to pass about an eight days after these ing be a very good work when the Bible has ye eat this bread and drink this cup ye do sayings he took Peter and John and James never said anything in its favor ? There is no such term as Christian But there are several reasons urged for the observance of the first day of the week which fore we are buried with him by baptism into Sabbath found in the Bible. But if it were a duty to ob bath and change it to the first day of .the FOURTH REASON. day of Pentecost was fifty days from the.res us and said It is finished John ity of this inference listen to a few facts. assembled for the purpose of eating a com Thursday the day of his ascension.\n",
      "---\n",
      "\n",
      "J. N. ANDREWS R. F. COTTRELL URIAH SMITH Publishing Committee. The Law of God as taught in the Old and NOW Testaments unchangeable. Immortality alone through Ohrist to be given to the Saints at the Resurrection. Never of Providence dare to complain Sunshine and storm both must ripen the grain Tried is the gold that the purest will shine Crushed is the vintage that yielded the wine. But of all the positions adopted none seem so dangerous orfraught with such alarming consequence as the view that the Jaw of God by which the Sabbath is enforced has been abolished and that we are therefore under no obligation to remember the Sabbath day to keep it holy. For verily I say unto you Till heaven and earth pass one jot or one tittle shall in no wise pass from the law till all be fulfilled. Our Lord here testifies that he did not come to destroy the law or the prophets. It is therefore certain that our Lord did not Oorne to subvert annul or destroy the law of God. When John refused to baptize the Saviour Jesus said Suffer it to be so now for thus it becometh us to fulfill all righteousness. No one will claim that he lessened our obligation to fulfill all righteousness also. There is but one way in which this could be accom plished and that is to answer its just demands. Did this work of the Messiah in rendering per fect obedience to all the law of God and then offer ing up himself as a ransom for its transgressors weaken that law or lessen our obligation to obey it i Never. This evinces the estimate which the Father placed upon Isis own law.\n",
      "---\n",
      "\n",
      "BY H. S. LAY M.D. In coming for the first time before the public as an editor of a Health Reform Journal it may be expected that we say a word to our readers in reference to what we intend to do and what we design shall be the style and character of the periodical of which we have been placed in charge. It shall be our great object to lay before our readers the facts of vital importance in relation to the health reform and aim to instruct the people how to avoid sickness or if sick how to regain their health and that without poisons. Its contributors will be persons of experience and of high mental and moral attainments. In a word we intend to make it a first class Health Journal one that will commend itself to the good judgement of an intelligent public. Hence it is an inducement to quacks to recommend their nostrums in this way.\n",
      "---\n",
      "\n",
      "Although he was the King of Israel yet he was meek and child like. Then take the questions one by one and look out the answers and commit them to memory. O get ready fur the kingdom I want to be there and I want to meet you on Mount Zion. i and he said The law of the Lord is perfect converting the soul. Then God has given us a perfect rule of action a perfect law and if we obey it we shall do just right. But he made some laws for man after be had sinned which were intended to last only till Christ should come and die upon the cross. These never were altered but their time was out when Jesus died and they died also.\n",
      "---\n",
      "\n",
      "Behold I come quickly and my reward is with me to give every man according a his work shall be. FIFTH DAY AUGUST NUMBER The Signs of the Times IS ISSUED WEEKLY AT OAKLAND CALIFORNIA. Mark the sweet reward of Heaven When Satan took his flight Angels to minister were given With consolation bright. All Scripture is given by inspiration of God and is profitable for doctrine for reproof for correction for instruction in righteousness that the man of God may be perfect thoroughly furnished unto all good works. To those who are willing to obey the teachings of his word he has promised the Spirit to guide them into all truth. That this Commandment requires men to remember and to keep holy the rest day of the Creator which he hallowed at the close of the first week of time none can deny. If they cannot present such a text will they give us one which testifies that God ever blessed and sanctified the first day of the week ? The Bible thoroughly furnishes the man of God unto all good works. Sunday keepers are compelled to admit that he never did say it. Then redemption is through the death of the Lord Jesus consequently the day on which he shed his precious blood to redeem us and said It is finished John is the day that should be kept as a memorial of redemption if any should be observed for that purpose. It needs but a word to prove that in this respect it is far exceeded by the day of the crucifixion. But if we would commemorate redemption there is no necessity of robbing the Lord s rest day of its holiness in order to do it. For I have received of the Lord that which also I delivered unto you that the Lord Jesus the same night in which he was betrayed took bread and when he had given thanks he brake it and said Take eat this is my body which is broken for you this do in remembrance of me. For as often as ye eat this bread and drink this cup ye do show the Lord s death till he come. For if we have been planted together in the likeness of his death we shall be also in the likeness of his resurrection. But to show the utter absurdity of this inference listen to a few facts. And they went and told it unto the residue neither believed they them. John says Then the same day at evening being the first day of the week when the doors were shut where the disciples were assembled for fear of the Jews came Jesus and stood in the midst and saith unto them Peace be unto you. It is a fact therefore that the disciples were not commemorating the resurrection of the Saviour it is equally evident that they had not the slightest idea of a change of the Sabbath. Therefore the first day of the week should be observed instead of the Sabbath of the Lord. A period of ten days after his ascension on Thursday would include two first days the last of which\n",
      "---\n",
      "\n",
      "Here is the Patience of the Saints Here are they that keep the Commandments of God and the Faith of Jesus. All communications orders and remittances should be addressed to JAMES WHITE Rochester N. Y. Monroe Street post paid. The Law of God as taught in the Old and New Testaments unchangeable. In every danger thou host a sure guide To every cloud there is yet a bright side Falter then not at the sternest behest Ever remember tis all for the best! But of all the positions adopted none seem so dangerous or fraught with such alarming consequence as the view that the Law of God by which the Sabbath is enforced has been abolished and that we are therefore under no obligation to remember the Sabbath day to keep it holy. For verily I say unto you Till heaven and earth pass one jot or one tittle shall in no wise pass from the law till all be fulfilled. Whiting renders it Think not that I am come to annul the law. If that was the object of our Lord s mission it follows that he did not lessen our obligation to obey the law of his Father. When John refused to baptize the Saviour Jesus said Suffer it to be so now for thus it becometh us to fulfill all righteousness. There is but one way in which this could be accomplished and that is to answer its just demands. He died the just for the unjust giving his own life a ransom for many. Did this work of the Messiah in rendering perfect obedience to all the law of God and then offering up himself as a ransom for its transgressors weaken that law or lessen our obligation to obey it? Isaiah predicted that Christ should magnify the law and make it honorable. The record of Christ s life and death shows the fulfillment of this prediction. A tittle is a small point by which some of those letters are distinguished from others.\n",
      "---\n",
      "\n"
     ]
    }
   ],
   "source": [
    "summaries = text_df.gpt2_summary.to_list()\n",
    "for each in summaries:\n",
    "    print(\"{}\\n---\\n\".format(each))"
   ]
  },
  {
   "cell_type": "markdown",
   "id": "61b9788b",
   "metadata": {},
   "source": [
    "### BERT Model"
   ]
  },
  {
   "cell_type": "code",
   "execution_count": 10,
   "id": "857b7367",
   "metadata": {},
   "outputs": [],
   "source": [
    "text_df['bert_abstract_summary'] = text_df.text_cleaned_nlp.apply(lambda x : ''.join(bert_model(x, min_length=60, max_length=350)))"
   ]
  },
  {
   "cell_type": "code",
   "execution_count": 11,
   "id": "8dc834b5",
   "metadata": {
    "scrolled": false
   },
   "outputs": [
    {
     "name": "stdout",
     "output_type": "stream",
     "text": [
      "tion and a better state of things cannot be expected until the laws of life rnd health are better understood and obeyed. natLOna su cc c asses an a para word to om readers m reference to what . d h I eat rorn a re g us stan pomt t at l .nowmg sornethmgofthe greatrc pon i s a oral dutv it will not be from a bT I b h b a m s itws t ia .w . or if sick how to regain their health and This is the highest commendation of that without poisons. varieties of unwholesome and deleterious V c also design to devote a limited space articles of diet that have brought their in each number to the answering of ques sickness upon them it is accounted a tion proposed by our readers relative to fine thing. I give lm n il that will co me d itself t the description changed a little to snit our good Judgment of an rntelhgent pubhc.\n",
      "---\n",
      "\n",
      "Although he was the Jing of Israel yet he was meek and child like. Children you can learn of David how to serve God and walk uprightly. May God bless you in learning the truths of the Bible and may you have a heart to obey the truth that you may be saved from all those things which are soon coming upon the earth and be prepared to stand before the Son of man. But God our Maker knows exactly what is right for us to do and he has made a law that is perfect. If men were to make laws what would each one de sire to have? If we had no law bad men would steal rob and mur der without fear of punishment. Each one would de sire to have a law to please himself and no man s judgment is good enough to make a law that\n",
      "---\n",
      "\n",
      "kr ffiigno the Zintro IS ISSUED WEEKLY AT OAKLAND CALIFORNIA. All Scripture is given by inspiration of God and is profitable for doctrine for reproof for correction for instruction in righteousness that the man of God may be perfect thoroughly furnished unto all good works. The design of its Author in providing such a book was that the man of God might there by be made perfect thoroughly furnished unto all good works. The tempter skilled in every art To turn from virtue s ways Found in the Saviour s guiltless heart Naught but his Maker s praise. If thou art now the Son of God Send forth thy firm command And let these stones to bread be turned By thine all powerful hand. Jesus to answer this request Quotes the inspired pages Man shall not live by bread alone God s word is life through ages. Six days shalt thou labor and do all more remarkable event the act of Jehovah and told it unto the residue neither believed thy work but the seventh day is the Sabin giving his beloved and only Son to die for they them. The own signature and these we may observe met with his disciples again. But will they not give us which also I delivered unto you that the single particle of proof that that day had become one text in which men are required to keep Lord Jesus the same night in which he was the Sabbath of the Lord. For as often as came to pass about an eight days after these ing be a very good work when the Bible has ye eat this bread and drink this cup ye do sayings he took Peter and John and James never said anything in its favor ? c. Then after six days is about eight is a good work can men be very thoroughly . . You need not that Sunday has taken the place of the Lord s good work must it not be a fearful sin keep the first day of the week. There is no such term as Christian But there are several reasons urged for the observance of the first day of the week which fore we are buried with him by baptism into Sabbath found in the Bible. Redemption is greater than even so we also shpuld walk in newness of Was the act of Christ in appearing to his creation therefore we ought to keep the day life. Buried with him in baptism to manifest himself to them John . But suppose that It is true that the professed church have on which he was last seen of them may not redemption is greater than creation who changed this ordinance to sprinkling so that be Sabbaths. this meeting by uniting with them John ly named the day of the week on which it Col. day of Pentecost was fifty days from the.res us and said It is finished John ity of this inference listen to a few facts.\n",
      "---\n",
      "\n",
      "J. N. ANDREWS R. F. COTTRELL URIAH SMITH Publishing Committee. Never of Providence dare to complain Sunshine and storm both must ripen the grain Tried is the gold that the purest will shine Crushed is the vintage that yielded the wine. By the unerring word of God we wish to settle this question and this we believe can be done in the most satisfactory manner. For verily I say unto you Till heaven and earth pass one jot or one tittle shall in no wise pass from the law till all be fulfilled. Our Lord here testifies that he did not come to destroy the law or the prophets. We answer that it can only sig nify to abolish or to annul it. It is therefore certain that our Lord did not Oorne to subvert annul or destroy the law of God. If this was the object of the Saviour s mission did he not by this act do away the law set it aside and relieve us from obligation to keep its precepts? But it may be contended that to fulfill the law in the sense of our Lord s declaration accomplishes its purpose and takes it out of the way. When Christ came to fulfill the law he came to do this not for himself but in behalf of our race. The law of God stopped every mouth and showed all men sinners in the sight of God. He died the just for the unjust giving his own life a ransom for many. Did this work of the Messiah in rendering per fect obedience to all the law of God and then offer ing up himself as a ransom for its transgressors weaken that law or lessen our obligation to obey it i Never. It shows in the most striking light its per petuity and immutability.\n",
      "---\n",
      "\n",
      "BY H. S. LAY M.D. In coming for the first time before the public as an editor of a Health Reform Journal it may be expected that we say a word to our readers in reference to what we intend to do and what we design shall be the style and character of the periodical of which we have been placed in charge. It shall be our constant aim to make the HEALTH REFORMER worthy the patronage of an intelligent and candid public. Not only will the reading matter be of a high order but the paper and type will be of the nicest quality. While therefore we shall advocate the proper care of our bodies or the preservation of health from a religious standpoint that is as a moral duty it will not be from a denominational one but what we may have to say will be adapted to the cases and necessities of all classes. Gluttons are the last sort of people who want to starve to death.\n",
      "---\n",
      "\n",
      "Although he was the King of Israel yet he was meek and child like. Children you can learn of David how to serve God and walk uprightly. May God bless you in learning the truths of the Bible and may you have a heart to obey the truth that you may be saved from all those things which are soon coming upon the earth and be prepared to stand before the Son of man. Each one would desire to have a law to please himself and no man s judgment is good enough to make a law that would be just right in everything. A boy writes a word of ten letters on a slate and spells it perfectly right. So if we change one commandment of the perfect law of God it makes it imperfect. They were given to point sinners forward to the death of Christ for forgiveness and when he died they could be used no longer.\n",
      "---\n",
      "\n",
      "Behold I come quickly and my reward is with me to give every man according a his work shall be. The tempter skilled in every art To turn from virtue s ways Found in the Saviour s guiltless heart Naught but his Maker s praise. Jesus to answer this request Quotes the inspired pages Man shall not live by bread alone God s word is life through ages. All Scripture is given by inspiration of God and is profitable for doctrine for reproof for correction for instruction in righteousness that the man of God may be perfect thoroughly furnished unto all good works. As the first day of the week is now almost universally observed in the place of the Sabbath of the fourth commandment we design in this article to examine the grounds on which this observance rests. For what reason do men prefer the first day of the week to the ancient Sabbath of the Lord ? Or if it is a good work can men be very thoroughly furnished in its defense when God has said nothing in its favor ? It is not said that we have redemption through Christ s resurrection but it is said that we have redemption through the shedding of his blood. There is only one answer that can be given It was not remarkable that God should raise his Son from the dead but the act of the Father in giving his Son to die for sinners was a spectacle of redeeming love on which the universe might gaze and adore the wondrous love of God to all eternity. For as often as ye eat this bread and drink this cup ye do show the Lord s death till he come. Know ye not that so many of us as were baptized into Jesus Christ were baptized into his death ? But to show the utter absurdity of this inference listen to a few facts. And they went and told it unto the residue neither believed they them. John says Then the same day at evening being the first day of the week when the doors were shut where the disciples were assembled for fear of the Jews came Jesus and stood in the midst and saith unto them Peace be unto you. It is a fact therefore that the disciples were not commemorating the resurrection of the Saviour it is equally evident that they had not the slightest idea of a change of the Sabbath. But who can be certain that after eight days means just a week? And after six days Jesus taketh Peter James and John c. Now turn to Luke And it came to pass about an eight days after these sayings he took Peter and John and James c. Then after six days is about eight days in this instance. But if after eight days means just a week how does this prove that Sunday has taken the place of the Lord s Sabbath! If so why did he next select a fishing day as the time to manifest himself to them John . Forty days from his resurrection would expire on Thursday the day of his ascension. A period of ten days after his ascension on Thursday would include two first days the last of which\n",
      "---\n",
      "\n",
      "Here is the Patience of the Saints Here are they that keep the Commandments of God and the Faith of Jesus. J. N. ANDREWS R. F. COTTRELL URIAH SMITH Publishing Committee. The Earth restored to its Eden perfection and glory the final Inheritance of the Saints. Was the law of God abolished by the teachings of our Lord Jesus Christ? For verily I say unto you Till heaven and earth pass one jot or one tittle shall in no wise pass from the law till all be fulfilled. We answer that it can only signify to abolish or to annul it. Whiting renders it Think not that I am come to annul the law. But it may be contended that to fulfill the law in the sense of our Lord s declaration accomplishes its purpose and takes it out of the way. There is but one way in which this could be accomplished and that is to answer its just demands. When Christ came to fulfill the law he came to do this not for himself but in behalf of our race. The law of God stopped every mouth and showed all men sinners in the sight of God. Then when the Saviour took upon himself our nature and came to fulfill the law of his Father that l aw not only demanded perfect obedience but it also justly demanded the death of our race for all were its transgressors. The work of the Saviour therefore in fulfilling the law of his Father was of a two fold character. And this was not all he took upon himself the sin of the world. God can now be just and yet justify him that believeth in Jesus.\n",
      "---\n",
      "\n"
     ]
    }
   ],
   "source": [
    "extracts = text_df.bert_abstract_summary.to_list()\n",
    "for each in extracts:\n",
    "    print(\"{}\\n---\\n\".format(each))"
   ]
  },
  {
   "cell_type": "markdown",
   "id": "87ed52cd",
   "metadata": {},
   "source": [
    "## Abstract (2)\n",
    "\n",
    "The above summarizing engine was trained on CNN/Daily Mail News. Trying with the t5 data from huggingface.\n",
    "\n",
    "The t5 algorithm requires documents to be about 520 tokens in length."
   ]
  },
  {
   "cell_type": "code",
   "execution_count": 12,
   "id": "4dfa3f35",
   "metadata": {},
   "outputs": [],
   "source": [
    "import torch\n",
    "import json \n",
    "from transformers import T5Tokenizer, T5ForConditionalGeneration, T5Config\n",
    "\n",
    "model = T5ForConditionalGeneration.from_pretrained('t5-base')\n",
    "tokenizer = T5Tokenizer.from_pretrained('t5-base')\n",
    "device = torch.device('cpu')"
   ]
  },
  {
   "cell_type": "code",
   "execution_count": 13,
   "id": "131d607a",
   "metadata": {},
   "outputs": [],
   "source": [
    "demo_text = text_df.iloc[4][\"text\"]\n",
    "\n",
    "t5_prepared_Text = \"summarize: {}\".format(demo_text[211:712].strip().replace(\"\\n\", \"\"))\n",
    "\n",
    "tokenized_text = tokenizer.encode(t5_prepared_Text, return_tensors=\"pt\").to(device)"
   ]
  },
  {
   "cell_type": "code",
   "execution_count": 14,
   "id": "5545eb20",
   "metadata": {},
   "outputs": [],
   "source": [
    "# summmarize \n",
    "summary_ids = model.generate(tokenized_text,\n",
    "                                    num_beams=4,\n",
    "                                    no_repeat_ngram_size=2,\n",
    "                                    min_length=100,\n",
    "                                    max_length=350,\n",
    "                                    early_stopping=True)\n",
    "\n",
    "output = tokenizer.decode(summary_ids[0], skip_special_tokens=True)"
   ]
  },
  {
   "cell_type": "code",
   "execution_count": 15,
   "id": "7cf0e821",
   "metadata": {},
   "outputs": [
    {
     "name": "stdout",
     "output_type": "stream",
     "text": [
      "eaders: what we design shall be the style and character of the periodicalof which we have been placed in charge. if we do not also expecct our ardent desire to do all that lies in our power, we would not engage in this enterprise, he adds. \"it would be with some misgivings\" that we engage, were it not for our passion to teach and benefit the people in relation to the right method of living.\n"
     ]
    }
   ],
   "source": [
    "print(output)"
   ]
  },
  {
   "cell_type": "code",
   "execution_count": 16,
   "id": "9b9ae540",
   "metadata": {},
   "outputs": [],
   "source": [
    "summaries = []\n",
    "for doc in text_df['text_cleaned_nlp'].to_list():\n",
    "    t5_prepared_Text = \"summarize: {}\".format(doc[211:712].strip().replace(\"\\n\", \"\"))\n",
    "\n",
    "    tokenized_text = tokenizer.encode(t5_prepared_Text, return_tensors=\"pt\").to(device)\n",
    "    \n",
    "    summary_ids = model.generate(tokenized_text,\n",
    "                                    num_beams=4,\n",
    "                                    no_repeat_ngram_size=2,\n",
    "                                    min_length=100,\n",
    "                                    max_length=350,\n",
    "                                    early_stopping=True)\n",
    "\n",
    "    output = tokenizer.decode(summary_ids[0], skip_special_tokens=True)\n",
    "    summaries.append(output)"
   ]
  },
  {
   "cell_type": "code",
   "execution_count": 17,
   "id": "8e601a00",
   "metadata": {
    "scrolled": false
   },
   "outputs": [
    {
     "name": "stdout",
     "output_type": "stream",
     "text": [
      "he laws of life rnd health are better understood and obeyed. public as an editor of a He.ilth Reform Th b. f II Ith t d, e sn jcc c may be expected that we say 'ibt' m natLOna su pc asses ana para word to om readers' reference to what ii urh l ties arc en g u \n",
      "---\n",
      "\n",
      "children you can learn of David how to serve God and walk uprightly. read the lesson two or three times slowly and careful ly and try to understand every idea in it. Read a sentence and then look off and think it's too high for me. if you're unsure, ask your teacher to help you with your homework. you may be able to do this by completing the following steps: 1. read it twice and look it over again. 2. look at it carefully and see what you have read. 3. read \n",
      "---\n",
      "\n",
      "all Scripture is given by inspiration of God and is profitable for doctrine for reproof for correction for instruction in righteousness. every doctrine which men should believe is therein revealed and every fault is reproved that is based on the doctrines of the holy Scriptures, namely: christianity, prophecy, truth, righteousness, and sacrament of love, grace, mercy, love and mercy. the paper is sustained by the donations of liberal friends of a cause. \n",
      "---\n",
      "\n",
      "JAMES WHITE: The Bible and the Bible alone the rule of faith and duty. the Law of God as taught in the Old and NOW Testaments unchangeable, he says ; the law of god unchanging, the sacrament of the saints immortality alone through Ohrist to be given to thou rst through the Holy Spirit. thomas wilkinson: i am a believer who believes that the Lord is the only one who \n",
      "---\n",
      "\n",
      "rence to what they intend to do and what we design shall be the style and character of the periodical of which we have been placed in charge. would be with some misgivings that we engage in this enterprise had it not been for our ardent desire to teach and benefit the people in relation to the right method of living, he said. if we do not also expect the hearty co operation, we would not be able to continue to publish. \n",
      "---\n",
      "\n",
      "children you can learn of David how to serve God and walk uprightly. in the first place read the lesson two or three times slowly and carefully and try to understand every idea in it. read a sentence and then look off and think it over in your mind before proceeding to the next annexed sentence. er or in things too high for me. Ps cxxxii. Read the sentence again and look back at it again. then move on to another lesson. \n",
      "---\n",
      "\n",
      "LY AT OAKLAND CALIFORNIA. Elder James White Editor and Proprietor. TERMS TWO DOLLARS a year to those who choose to pay subscription price and FREE to all others. \"the tempter skilled in every art To turn from virtue s ways Found in the midst of all his actions\" ly at Oakland california: \"The Temptation of Christ. The temptation of the Lord\" \n",
      "---\n",
      "\n",
      "The Bible and the Bible alone the rule of faith and duty. The Law of God as taught in the Old and New Testaments unchangeable. RALD. IS PUBLISHED WEEKLY At South St. Paul st. Stone's Block' JAMES WHITE is the editor of leading doctrines taught by the Review. the review is open to the public until the end of october. \n",
      "---\n",
      "\n"
     ]
    }
   ],
   "source": [
    "for each in summaries:\n",
    "    print(\"{} \\n---\\n\".format(each))"
   ]
  },
  {
   "cell_type": "code",
   "execution_count": null,
   "id": "5c21722a",
   "metadata": {},
   "outputs": [],
   "source": []
  },
  {
   "cell_type": "code",
   "execution_count": null,
   "id": "9f1e9401",
   "metadata": {},
   "outputs": [],
   "source": []
  },
  {
   "cell_type": "code",
   "execution_count": null,
   "id": "79c754e2",
   "metadata": {},
   "outputs": [],
   "source": []
  },
  {
   "cell_type": "code",
   "execution_count": null,
   "id": "41fcbbf9",
   "metadata": {},
   "outputs": [],
   "source": []
  },
  {
   "cell_type": "code",
   "execution_count": null,
   "id": "4fd0d334",
   "metadata": {},
   "outputs": [],
   "source": []
  }
 ],
 "metadata": {
  "kernelspec": {
   "display_name": "Python 3",
   "language": "python",
   "name": "python3"
  },
  "language_info": {
   "codemirror_mode": {
    "name": "ipython",
    "version": 3
   },
   "file_extension": ".py",
   "mimetype": "text/x-python",
   "name": "python",
   "nbconvert_exporter": "python",
   "pygments_lexer": "ipython3",
   "version": "3.8.10"
  }
 },
 "nbformat": 4,
 "nbformat_minor": 5
}
