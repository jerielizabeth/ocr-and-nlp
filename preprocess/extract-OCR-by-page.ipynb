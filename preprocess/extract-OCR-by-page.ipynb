{
 "cells": [
  {
   "cell_type": "code",
   "execution_count": 1,
   "id": "b625186d",
   "metadata": {},
   "outputs": [],
   "source": [
    "import os\n",
    "import PyPDF2\n",
    "\n",
    "pdf_dir = \"/Users/jeriwieringa/Documents/Research/ocr-and-nlp/data/pdfs/\"\n",
    "text_dir = \"/Users/jeriwieringa/Documents/Research/ocr-and-nlp/data/text/ocr-generated/\""
   ]
  },
  {
   "cell_type": "code",
   "execution_count": 2,
   "id": "f860d882",
   "metadata": {},
   "outputs": [],
   "source": [
    "# For directory in PDFS, \n",
    "# 2. for each file in that directory,\n",
    "# 3. load contents from PDF\n",
    "# 4. For each page in the PDF, write the contents to a new corresponding file using file name and page number."
   ]
  },
  {
   "cell_type": "code",
   "execution_count": 3,
   "id": "c96f27b8",
   "metadata": {},
   "outputs": [
    {
     "name": "stdout",
     "output_type": "stream",
     "text": [
      "Starting extraction for YI18950221-V43-08.pdf\n",
      "Completed extraction for YI18950221-V43-08.pdf\n",
      "Starting extraction for HR18660801-V01-01.pdf\n",
      "Completed extraction for HR18660801-V01-01.pdf\n",
      "Starting extraction for YI18820802-V30-31.pdf\n",
      "Completed extraction for YI18820802-V30-31.pdf\n",
      "Starting extraction for RH18640719-V24-08.pdf\n",
      "Completed extraction for RH18640719-V24-08.pdf\n",
      "Starting extraction for RH18540815-V06-01.pdf\n",
      "Completed extraction for RH18540815-V06-01.pdf\n",
      "Starting extraction for RH18840812-V61-33.pdf\n",
      "Completed extraction for RH18840812-V61-33.pdf\n",
      "Starting extraction for YI18540801-V02-08.pdf\n",
      "Completed extraction for YI18540801-V02-08.pdf\n",
      "Starting extraction for HR18940801-V29-08.pdf\n",
      "Completed extraction for HR18940801-V29-08.pdf\n",
      "Starting extraction for HR18740801-V09-08.pdf\n",
      "Completed extraction for HR18740801-V09-08.pdf\n",
      "Starting extraction for RH18940821-V71-34.pdf\n",
      "Completed extraction for RH18940821-V71-34.pdf\n",
      "Starting extraction for ST18840807-V10-30.pdf\n",
      "Completed extraction for ST18840807-V10-30.pdf\n",
      "Starting extraction for RH18740818-V44-09.pdf\n",
      "Completed extraction for RH18740818-V44-09.pdf\n",
      "Starting extraction for HR18840801-V19-08.pdf\n",
      "Completed extraction for HR18840801-V19-08.pdf\n",
      "Starting extraction for ST18940806-V20-39.pdf\n",
      "Completed extraction for ST18940806-V20-39.pdf\n",
      "Starting extraction for YI18720801-V20-08.pdf\n",
      "Completed extraction for YI18720801-V20-08.pdf\n",
      "Starting extraction for ST18740813-V01-06.pdf\n",
      "Completed extraction for ST18740813-V01-06.pdf\n",
      "Starting extraction for YI18620801-V10-08.pdf\n",
      "Completed extraction for YI18620801-V10-08.pdf\n"
     ]
    }
   ],
   "source": [
    "for filename in os.listdir(pdf_dir):\n",
    "    if not filename.startswith('.'):\n",
    "        print(\"Starting extraction for {}\".format(filename))\n",
    "        pdfFileObject = open(os.path.join(pdf_dir, filename), 'rb')\n",
    "        pdfReader = PyPDF2.PdfFileReader(pdfFileObject)\n",
    "\n",
    "        for page_num in range(0, pdfReader.numPages):\n",
    "            page_content = pdfReader.getPage(page_num)\n",
    "\n",
    "            with open(os.path.join(text_dir, \"{}-p{}.txt\".format(os.path.splitext(filename)[0], page_num+1)), 'w') as outfile:\n",
    "                outfile.write(page_content.extractText())\n",
    "\n",
    "        pdfFileObject.close()\n",
    "        print(\"Completed extraction for {}\".format(filename))"
   ]
  },
  {
   "cell_type": "code",
   "execution_count": null,
   "id": "a9434bd8",
   "metadata": {},
   "outputs": [],
   "source": []
  }
 ],
 "metadata": {
  "kernelspec": {
   "display_name": "Python [conda env:ocr] *",
   "language": "python",
   "name": "conda-env-ocr-py"
  },
  "language_info": {
   "codemirror_mode": {
    "name": "ipython",
    "version": 3
   },
   "file_extension": ".py",
   "mimetype": "text/x-python",
   "name": "python",
   "nbconvert_exporter": "python",
   "pygments_lexer": "ipython3",
   "version": "3.8.8"
  }
 },
 "nbformat": 4,
 "nbformat_minor": 5
}
